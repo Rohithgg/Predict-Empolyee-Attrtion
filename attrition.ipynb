{
 "cells": [
  {
   "metadata": {},
   "cell_type": "markdown",
   "source": "# Employee Attrition Prediction",
   "id": "c954fc1d4849ca25"
  },
  {
   "metadata": {},
   "cell_type": "markdown",
   "source": [
    "## Introduction\n",
    "Employee attrition is a critical challenge faced by organizations across industries. High attrition rates can lead to increased costs, reduced productivity, and negative impacts on employee morale. To address this issue, organizations need to identify the factors contributing to attrition and develop strategies to retain top talent."
   ],
   "id": "8e1930280ac4de52"
  },
  {
   "metadata": {},
   "cell_type": "markdown",
   "source": [
    "## content\n",
    "##### 1. Load the data\n",
    "##### 2. Data Exploration and Data Visualization\n",
    "##### 3. Feature Engineering\n",
    "##### 4. Model Selection\n",
    "##### 5. Model Training\n",
    "##### 6. Model Evaluation\n",
    "##### 7. Hyperparameter Tuning\n",
    "##### 8. Final Model\n",
    "##### 9. Conclusion\n",
    "##### 10. Summary\n",
    "##### 11. Note"
   ],
   "id": "6d1e8f7cbe7775f4"
  },
  {
   "metadata": {},
   "cell_type": "code",
   "outputs": [],
   "execution_count": null,
   "source": [
    "from gettext import install\n",
    "\n",
    "import pandas as pd\n",
    "import numpy as np\n",
    "import matplotlib.pyplot as plt\n",
    "import seaborn as sns\n",
    "from sklearn.metrics import accuracy_score, confusion_matrix, classification_report\n",
    "import warnings\n",
    "warnings.filterwarnings('ignore')"
   ],
   "id": "140fb6eab4205b34"
  },
  {
   "metadata": {},
   "cell_type": "markdown",
   "source": "# Load the data",
   "id": "58a50d0c3e1529ef"
  },
  {
   "metadata": {
    "ExecuteTime": {
     "end_time": "2024-11-27T11:51:17.099887Z",
     "start_time": "2024-11-27T11:51:17.062981Z"
    }
   },
   "cell_type": "code",
   "source": "df = pd.read_csv('D:/employee-attrition/WA_Fn-UseC_-HR-Employee-Attrition.csv')",
   "id": "feb612c1c25a36f9",
   "outputs": [],
   "execution_count": 14
  },
  {
   "metadata": {
    "ExecuteTime": {
     "end_time": "2024-11-27T11:51:17.112485Z",
     "start_time": "2024-11-27T11:51:17.104931Z"
    }
   },
   "cell_type": "code",
   "source": "df.shape",
   "id": "7de3a5dd4bb1431c",
   "outputs": [
    {
     "data": {
      "text/plain": [
       "(1470, 35)"
      ]
     },
     "execution_count": 15,
     "metadata": {},
     "output_type": "execute_result"
    }
   ],
   "execution_count": 15
  },
  {
   "metadata": {
    "ExecuteTime": {
     "end_time": "2024-11-27T11:51:17.144543Z",
     "start_time": "2024-11-27T11:51:17.134357Z"
    }
   },
   "cell_type": "code",
   "source": "df.head()",
   "id": "ba0e31cb612cd037",
   "outputs": [
    {
     "data": {
      "text/plain": [
       "   Age Attrition     BusinessTravel  DailyRate              Department  \\\n",
       "0   41       Yes      Travel_Rarely       1102                   Sales   \n",
       "1   49        No  Travel_Frequently        279  Research & Development   \n",
       "2   37       Yes      Travel_Rarely       1373  Research & Development   \n",
       "3   33        No  Travel_Frequently       1392  Research & Development   \n",
       "4   27        No      Travel_Rarely        591  Research & Development   \n",
       "\n",
       "   DistanceFromHome  Education EducationField  EmployeeCount  EmployeeNumber  \\\n",
       "0                 1          2  Life Sciences              1               1   \n",
       "1                 8          1  Life Sciences              1               2   \n",
       "2                 2          2          Other              1               4   \n",
       "3                 3          4  Life Sciences              1               5   \n",
       "4                 2          1        Medical              1               7   \n",
       "\n",
       "   ...  RelationshipSatisfaction StandardHours  StockOptionLevel  \\\n",
       "0  ...                         1            80                 0   \n",
       "1  ...                         4            80                 1   \n",
       "2  ...                         2            80                 0   \n",
       "3  ...                         3            80                 0   \n",
       "4  ...                         4            80                 1   \n",
       "\n",
       "   TotalWorkingYears  TrainingTimesLastYear WorkLifeBalance  YearsAtCompany  \\\n",
       "0                  8                      0               1               6   \n",
       "1                 10                      3               3              10   \n",
       "2                  7                      3               3               0   \n",
       "3                  8                      3               3               8   \n",
       "4                  6                      3               3               2   \n",
       "\n",
       "  YearsInCurrentRole  YearsSinceLastPromotion  YearsWithCurrManager  \n",
       "0                  4                        0                     5  \n",
       "1                  7                        1                     7  \n",
       "2                  0                        0                     0  \n",
       "3                  7                        3                     0  \n",
       "4                  2                        2                     2  \n",
       "\n",
       "[5 rows x 35 columns]"
      ],
      "text/html": [
       "<div>\n",
       "<style scoped>\n",
       "    .dataframe tbody tr th:only-of-type {\n",
       "        vertical-align: middle;\n",
       "    }\n",
       "\n",
       "    .dataframe tbody tr th {\n",
       "        vertical-align: top;\n",
       "    }\n",
       "\n",
       "    .dataframe thead th {\n",
       "        text-align: right;\n",
       "    }\n",
       "</style>\n",
       "<table border=\"1\" class=\"dataframe\">\n",
       "  <thead>\n",
       "    <tr style=\"text-align: right;\">\n",
       "      <th></th>\n",
       "      <th>Age</th>\n",
       "      <th>Attrition</th>\n",
       "      <th>BusinessTravel</th>\n",
       "      <th>DailyRate</th>\n",
       "      <th>Department</th>\n",
       "      <th>DistanceFromHome</th>\n",
       "      <th>Education</th>\n",
       "      <th>EducationField</th>\n",
       "      <th>EmployeeCount</th>\n",
       "      <th>EmployeeNumber</th>\n",
       "      <th>...</th>\n",
       "      <th>RelationshipSatisfaction</th>\n",
       "      <th>StandardHours</th>\n",
       "      <th>StockOptionLevel</th>\n",
       "      <th>TotalWorkingYears</th>\n",
       "      <th>TrainingTimesLastYear</th>\n",
       "      <th>WorkLifeBalance</th>\n",
       "      <th>YearsAtCompany</th>\n",
       "      <th>YearsInCurrentRole</th>\n",
       "      <th>YearsSinceLastPromotion</th>\n",
       "      <th>YearsWithCurrManager</th>\n",
       "    </tr>\n",
       "  </thead>\n",
       "  <tbody>\n",
       "    <tr>\n",
       "      <th>0</th>\n",
       "      <td>41</td>\n",
       "      <td>Yes</td>\n",
       "      <td>Travel_Rarely</td>\n",
       "      <td>1102</td>\n",
       "      <td>Sales</td>\n",
       "      <td>1</td>\n",
       "      <td>2</td>\n",
       "      <td>Life Sciences</td>\n",
       "      <td>1</td>\n",
       "      <td>1</td>\n",
       "      <td>...</td>\n",
       "      <td>1</td>\n",
       "      <td>80</td>\n",
       "      <td>0</td>\n",
       "      <td>8</td>\n",
       "      <td>0</td>\n",
       "      <td>1</td>\n",
       "      <td>6</td>\n",
       "      <td>4</td>\n",
       "      <td>0</td>\n",
       "      <td>5</td>\n",
       "    </tr>\n",
       "    <tr>\n",
       "      <th>1</th>\n",
       "      <td>49</td>\n",
       "      <td>No</td>\n",
       "      <td>Travel_Frequently</td>\n",
       "      <td>279</td>\n",
       "      <td>Research &amp; Development</td>\n",
       "      <td>8</td>\n",
       "      <td>1</td>\n",
       "      <td>Life Sciences</td>\n",
       "      <td>1</td>\n",
       "      <td>2</td>\n",
       "      <td>...</td>\n",
       "      <td>4</td>\n",
       "      <td>80</td>\n",
       "      <td>1</td>\n",
       "      <td>10</td>\n",
       "      <td>3</td>\n",
       "      <td>3</td>\n",
       "      <td>10</td>\n",
       "      <td>7</td>\n",
       "      <td>1</td>\n",
       "      <td>7</td>\n",
       "    </tr>\n",
       "    <tr>\n",
       "      <th>2</th>\n",
       "      <td>37</td>\n",
       "      <td>Yes</td>\n",
       "      <td>Travel_Rarely</td>\n",
       "      <td>1373</td>\n",
       "      <td>Research &amp; Development</td>\n",
       "      <td>2</td>\n",
       "      <td>2</td>\n",
       "      <td>Other</td>\n",
       "      <td>1</td>\n",
       "      <td>4</td>\n",
       "      <td>...</td>\n",
       "      <td>2</td>\n",
       "      <td>80</td>\n",
       "      <td>0</td>\n",
       "      <td>7</td>\n",
       "      <td>3</td>\n",
       "      <td>3</td>\n",
       "      <td>0</td>\n",
       "      <td>0</td>\n",
       "      <td>0</td>\n",
       "      <td>0</td>\n",
       "    </tr>\n",
       "    <tr>\n",
       "      <th>3</th>\n",
       "      <td>33</td>\n",
       "      <td>No</td>\n",
       "      <td>Travel_Frequently</td>\n",
       "      <td>1392</td>\n",
       "      <td>Research &amp; Development</td>\n",
       "      <td>3</td>\n",
       "      <td>4</td>\n",
       "      <td>Life Sciences</td>\n",
       "      <td>1</td>\n",
       "      <td>5</td>\n",
       "      <td>...</td>\n",
       "      <td>3</td>\n",
       "      <td>80</td>\n",
       "      <td>0</td>\n",
       "      <td>8</td>\n",
       "      <td>3</td>\n",
       "      <td>3</td>\n",
       "      <td>8</td>\n",
       "      <td>7</td>\n",
       "      <td>3</td>\n",
       "      <td>0</td>\n",
       "    </tr>\n",
       "    <tr>\n",
       "      <th>4</th>\n",
       "      <td>27</td>\n",
       "      <td>No</td>\n",
       "      <td>Travel_Rarely</td>\n",
       "      <td>591</td>\n",
       "      <td>Research &amp; Development</td>\n",
       "      <td>2</td>\n",
       "      <td>1</td>\n",
       "      <td>Medical</td>\n",
       "      <td>1</td>\n",
       "      <td>7</td>\n",
       "      <td>...</td>\n",
       "      <td>4</td>\n",
       "      <td>80</td>\n",
       "      <td>1</td>\n",
       "      <td>6</td>\n",
       "      <td>3</td>\n",
       "      <td>3</td>\n",
       "      <td>2</td>\n",
       "      <td>2</td>\n",
       "      <td>2</td>\n",
       "      <td>2</td>\n",
       "    </tr>\n",
       "  </tbody>\n",
       "</table>\n",
       "<p>5 rows × 35 columns</p>\n",
       "</div>"
      ]
     },
     "execution_count": 16,
     "metadata": {},
     "output_type": "execute_result"
    }
   ],
   "execution_count": 16
  },
  {
   "metadata": {
    "ExecuteTime": {
     "end_time": "2024-11-27T11:51:17.171980Z",
     "start_time": "2024-11-27T11:51:17.154204Z"
    }
   },
   "cell_type": "code",
   "source": "df.info()",
   "id": "2468441a405c024b",
   "outputs": [
    {
     "name": "stdout",
     "output_type": "stream",
     "text": [
      "<class 'pandas.core.frame.DataFrame'>\n",
      "RangeIndex: 1470 entries, 0 to 1469\n",
      "Data columns (total 35 columns):\n",
      " #   Column                    Non-Null Count  Dtype \n",
      "---  ------                    --------------  ----- \n",
      " 0   Age                       1470 non-null   int64 \n",
      " 1   Attrition                 1470 non-null   object\n",
      " 2   BusinessTravel            1470 non-null   object\n",
      " 3   DailyRate                 1470 non-null   int64 \n",
      " 4   Department                1470 non-null   object\n",
      " 5   DistanceFromHome          1470 non-null   int64 \n",
      " 6   Education                 1470 non-null   int64 \n",
      " 7   EducationField            1470 non-null   object\n",
      " 8   EmployeeCount             1470 non-null   int64 \n",
      " 9   EmployeeNumber            1470 non-null   int64 \n",
      " 10  EnvironmentSatisfaction   1470 non-null   int64 \n",
      " 11  Gender                    1470 non-null   object\n",
      " 12  HourlyRate                1470 non-null   int64 \n",
      " 13  JobInvolvement            1470 non-null   int64 \n",
      " 14  JobLevel                  1470 non-null   int64 \n",
      " 15  JobRole                   1470 non-null   object\n",
      " 16  JobSatisfaction           1470 non-null   int64 \n",
      " 17  MaritalStatus             1470 non-null   object\n",
      " 18  MonthlyIncome             1470 non-null   int64 \n",
      " 19  MonthlyRate               1470 non-null   int64 \n",
      " 20  NumCompaniesWorked        1470 non-null   int64 \n",
      " 21  Over18                    1470 non-null   object\n",
      " 22  OverTime                  1470 non-null   object\n",
      " 23  PercentSalaryHike         1470 non-null   int64 \n",
      " 24  PerformanceRating         1470 non-null   int64 \n",
      " 25  RelationshipSatisfaction  1470 non-null   int64 \n",
      " 26  StandardHours             1470 non-null   int64 \n",
      " 27  StockOptionLevel          1470 non-null   int64 \n",
      " 28  TotalWorkingYears         1470 non-null   int64 \n",
      " 29  TrainingTimesLastYear     1470 non-null   int64 \n",
      " 30  WorkLifeBalance           1470 non-null   int64 \n",
      " 31  YearsAtCompany            1470 non-null   int64 \n",
      " 32  YearsInCurrentRole        1470 non-null   int64 \n",
      " 33  YearsSinceLastPromotion   1470 non-null   int64 \n",
      " 34  YearsWithCurrManager      1470 non-null   int64 \n",
      "dtypes: int64(26), object(9)\n",
      "memory usage: 402.1+ KB\n"
     ]
    }
   ],
   "execution_count": 17
  },
  {
   "metadata": {
    "ExecuteTime": {
     "end_time": "2024-11-27T11:51:17.236324Z",
     "start_time": "2024-11-27T11:51:17.198618Z"
    }
   },
   "cell_type": "code",
   "source": "df.describe()",
   "id": "f543049d17c8f5fe",
   "outputs": [
    {
     "data": {
      "text/plain": [
       "               Age    DailyRate  DistanceFromHome    Education  EmployeeCount  \\\n",
       "count  1470.000000  1470.000000       1470.000000  1470.000000         1470.0   \n",
       "mean     36.923810   802.485714          9.192517     2.912925            1.0   \n",
       "std       9.135373   403.509100          8.106864     1.024165            0.0   \n",
       "min      18.000000   102.000000          1.000000     1.000000            1.0   \n",
       "25%      30.000000   465.000000          2.000000     2.000000            1.0   \n",
       "50%      36.000000   802.000000          7.000000     3.000000            1.0   \n",
       "75%      43.000000  1157.000000         14.000000     4.000000            1.0   \n",
       "max      60.000000  1499.000000         29.000000     5.000000            1.0   \n",
       "\n",
       "       EmployeeNumber  EnvironmentSatisfaction   HourlyRate  JobInvolvement  \\\n",
       "count     1470.000000              1470.000000  1470.000000     1470.000000   \n",
       "mean      1024.865306                 2.721769    65.891156        2.729932   \n",
       "std        602.024335                 1.093082    20.329428        0.711561   \n",
       "min          1.000000                 1.000000    30.000000        1.000000   \n",
       "25%        491.250000                 2.000000    48.000000        2.000000   \n",
       "50%       1020.500000                 3.000000    66.000000        3.000000   \n",
       "75%       1555.750000                 4.000000    83.750000        3.000000   \n",
       "max       2068.000000                 4.000000   100.000000        4.000000   \n",
       "\n",
       "          JobLevel  ...  RelationshipSatisfaction  StandardHours  \\\n",
       "count  1470.000000  ...               1470.000000         1470.0   \n",
       "mean      2.063946  ...                  2.712245           80.0   \n",
       "std       1.106940  ...                  1.081209            0.0   \n",
       "min       1.000000  ...                  1.000000           80.0   \n",
       "25%       1.000000  ...                  2.000000           80.0   \n",
       "50%       2.000000  ...                  3.000000           80.0   \n",
       "75%       3.000000  ...                  4.000000           80.0   \n",
       "max       5.000000  ...                  4.000000           80.0   \n",
       "\n",
       "       StockOptionLevel  TotalWorkingYears  TrainingTimesLastYear  \\\n",
       "count       1470.000000        1470.000000            1470.000000   \n",
       "mean           0.793878          11.279592               2.799320   \n",
       "std            0.852077           7.780782               1.289271   \n",
       "min            0.000000           0.000000               0.000000   \n",
       "25%            0.000000           6.000000               2.000000   \n",
       "50%            1.000000          10.000000               3.000000   \n",
       "75%            1.000000          15.000000               3.000000   \n",
       "max            3.000000          40.000000               6.000000   \n",
       "\n",
       "       WorkLifeBalance  YearsAtCompany  YearsInCurrentRole  \\\n",
       "count      1470.000000     1470.000000         1470.000000   \n",
       "mean          2.761224        7.008163            4.229252   \n",
       "std           0.706476        6.126525            3.623137   \n",
       "min           1.000000        0.000000            0.000000   \n",
       "25%           2.000000        3.000000            2.000000   \n",
       "50%           3.000000        5.000000            3.000000   \n",
       "75%           3.000000        9.000000            7.000000   \n",
       "max           4.000000       40.000000           18.000000   \n",
       "\n",
       "       YearsSinceLastPromotion  YearsWithCurrManager  \n",
       "count              1470.000000           1470.000000  \n",
       "mean                  2.187755              4.123129  \n",
       "std                   3.222430              3.568136  \n",
       "min                   0.000000              0.000000  \n",
       "25%                   0.000000              2.000000  \n",
       "50%                   1.000000              3.000000  \n",
       "75%                   3.000000              7.000000  \n",
       "max                  15.000000             17.000000  \n",
       "\n",
       "[8 rows x 26 columns]"
      ],
      "text/html": [
       "<div>\n",
       "<style scoped>\n",
       "    .dataframe tbody tr th:only-of-type {\n",
       "        vertical-align: middle;\n",
       "    }\n",
       "\n",
       "    .dataframe tbody tr th {\n",
       "        vertical-align: top;\n",
       "    }\n",
       "\n",
       "    .dataframe thead th {\n",
       "        text-align: right;\n",
       "    }\n",
       "</style>\n",
       "<table border=\"1\" class=\"dataframe\">\n",
       "  <thead>\n",
       "    <tr style=\"text-align: right;\">\n",
       "      <th></th>\n",
       "      <th>Age</th>\n",
       "      <th>DailyRate</th>\n",
       "      <th>DistanceFromHome</th>\n",
       "      <th>Education</th>\n",
       "      <th>EmployeeCount</th>\n",
       "      <th>EmployeeNumber</th>\n",
       "      <th>EnvironmentSatisfaction</th>\n",
       "      <th>HourlyRate</th>\n",
       "      <th>JobInvolvement</th>\n",
       "      <th>JobLevel</th>\n",
       "      <th>...</th>\n",
       "      <th>RelationshipSatisfaction</th>\n",
       "      <th>StandardHours</th>\n",
       "      <th>StockOptionLevel</th>\n",
       "      <th>TotalWorkingYears</th>\n",
       "      <th>TrainingTimesLastYear</th>\n",
       "      <th>WorkLifeBalance</th>\n",
       "      <th>YearsAtCompany</th>\n",
       "      <th>YearsInCurrentRole</th>\n",
       "      <th>YearsSinceLastPromotion</th>\n",
       "      <th>YearsWithCurrManager</th>\n",
       "    </tr>\n",
       "  </thead>\n",
       "  <tbody>\n",
       "    <tr>\n",
       "      <th>count</th>\n",
       "      <td>1470.000000</td>\n",
       "      <td>1470.000000</td>\n",
       "      <td>1470.000000</td>\n",
       "      <td>1470.000000</td>\n",
       "      <td>1470.0</td>\n",
       "      <td>1470.000000</td>\n",
       "      <td>1470.000000</td>\n",
       "      <td>1470.000000</td>\n",
       "      <td>1470.000000</td>\n",
       "      <td>1470.000000</td>\n",
       "      <td>...</td>\n",
       "      <td>1470.000000</td>\n",
       "      <td>1470.0</td>\n",
       "      <td>1470.000000</td>\n",
       "      <td>1470.000000</td>\n",
       "      <td>1470.000000</td>\n",
       "      <td>1470.000000</td>\n",
       "      <td>1470.000000</td>\n",
       "      <td>1470.000000</td>\n",
       "      <td>1470.000000</td>\n",
       "      <td>1470.000000</td>\n",
       "    </tr>\n",
       "    <tr>\n",
       "      <th>mean</th>\n",
       "      <td>36.923810</td>\n",
       "      <td>802.485714</td>\n",
       "      <td>9.192517</td>\n",
       "      <td>2.912925</td>\n",
       "      <td>1.0</td>\n",
       "      <td>1024.865306</td>\n",
       "      <td>2.721769</td>\n",
       "      <td>65.891156</td>\n",
       "      <td>2.729932</td>\n",
       "      <td>2.063946</td>\n",
       "      <td>...</td>\n",
       "      <td>2.712245</td>\n",
       "      <td>80.0</td>\n",
       "      <td>0.793878</td>\n",
       "      <td>11.279592</td>\n",
       "      <td>2.799320</td>\n",
       "      <td>2.761224</td>\n",
       "      <td>7.008163</td>\n",
       "      <td>4.229252</td>\n",
       "      <td>2.187755</td>\n",
       "      <td>4.123129</td>\n",
       "    </tr>\n",
       "    <tr>\n",
       "      <th>std</th>\n",
       "      <td>9.135373</td>\n",
       "      <td>403.509100</td>\n",
       "      <td>8.106864</td>\n",
       "      <td>1.024165</td>\n",
       "      <td>0.0</td>\n",
       "      <td>602.024335</td>\n",
       "      <td>1.093082</td>\n",
       "      <td>20.329428</td>\n",
       "      <td>0.711561</td>\n",
       "      <td>1.106940</td>\n",
       "      <td>...</td>\n",
       "      <td>1.081209</td>\n",
       "      <td>0.0</td>\n",
       "      <td>0.852077</td>\n",
       "      <td>7.780782</td>\n",
       "      <td>1.289271</td>\n",
       "      <td>0.706476</td>\n",
       "      <td>6.126525</td>\n",
       "      <td>3.623137</td>\n",
       "      <td>3.222430</td>\n",
       "      <td>3.568136</td>\n",
       "    </tr>\n",
       "    <tr>\n",
       "      <th>min</th>\n",
       "      <td>18.000000</td>\n",
       "      <td>102.000000</td>\n",
       "      <td>1.000000</td>\n",
       "      <td>1.000000</td>\n",
       "      <td>1.0</td>\n",
       "      <td>1.000000</td>\n",
       "      <td>1.000000</td>\n",
       "      <td>30.000000</td>\n",
       "      <td>1.000000</td>\n",
       "      <td>1.000000</td>\n",
       "      <td>...</td>\n",
       "      <td>1.000000</td>\n",
       "      <td>80.0</td>\n",
       "      <td>0.000000</td>\n",
       "      <td>0.000000</td>\n",
       "      <td>0.000000</td>\n",
       "      <td>1.000000</td>\n",
       "      <td>0.000000</td>\n",
       "      <td>0.000000</td>\n",
       "      <td>0.000000</td>\n",
       "      <td>0.000000</td>\n",
       "    </tr>\n",
       "    <tr>\n",
       "      <th>25%</th>\n",
       "      <td>30.000000</td>\n",
       "      <td>465.000000</td>\n",
       "      <td>2.000000</td>\n",
       "      <td>2.000000</td>\n",
       "      <td>1.0</td>\n",
       "      <td>491.250000</td>\n",
       "      <td>2.000000</td>\n",
       "      <td>48.000000</td>\n",
       "      <td>2.000000</td>\n",
       "      <td>1.000000</td>\n",
       "      <td>...</td>\n",
       "      <td>2.000000</td>\n",
       "      <td>80.0</td>\n",
       "      <td>0.000000</td>\n",
       "      <td>6.000000</td>\n",
       "      <td>2.000000</td>\n",
       "      <td>2.000000</td>\n",
       "      <td>3.000000</td>\n",
       "      <td>2.000000</td>\n",
       "      <td>0.000000</td>\n",
       "      <td>2.000000</td>\n",
       "    </tr>\n",
       "    <tr>\n",
       "      <th>50%</th>\n",
       "      <td>36.000000</td>\n",
       "      <td>802.000000</td>\n",
       "      <td>7.000000</td>\n",
       "      <td>3.000000</td>\n",
       "      <td>1.0</td>\n",
       "      <td>1020.500000</td>\n",
       "      <td>3.000000</td>\n",
       "      <td>66.000000</td>\n",
       "      <td>3.000000</td>\n",
       "      <td>2.000000</td>\n",
       "      <td>...</td>\n",
       "      <td>3.000000</td>\n",
       "      <td>80.0</td>\n",
       "      <td>1.000000</td>\n",
       "      <td>10.000000</td>\n",
       "      <td>3.000000</td>\n",
       "      <td>3.000000</td>\n",
       "      <td>5.000000</td>\n",
       "      <td>3.000000</td>\n",
       "      <td>1.000000</td>\n",
       "      <td>3.000000</td>\n",
       "    </tr>\n",
       "    <tr>\n",
       "      <th>75%</th>\n",
       "      <td>43.000000</td>\n",
       "      <td>1157.000000</td>\n",
       "      <td>14.000000</td>\n",
       "      <td>4.000000</td>\n",
       "      <td>1.0</td>\n",
       "      <td>1555.750000</td>\n",
       "      <td>4.000000</td>\n",
       "      <td>83.750000</td>\n",
       "      <td>3.000000</td>\n",
       "      <td>3.000000</td>\n",
       "      <td>...</td>\n",
       "      <td>4.000000</td>\n",
       "      <td>80.0</td>\n",
       "      <td>1.000000</td>\n",
       "      <td>15.000000</td>\n",
       "      <td>3.000000</td>\n",
       "      <td>3.000000</td>\n",
       "      <td>9.000000</td>\n",
       "      <td>7.000000</td>\n",
       "      <td>3.000000</td>\n",
       "      <td>7.000000</td>\n",
       "    </tr>\n",
       "    <tr>\n",
       "      <th>max</th>\n",
       "      <td>60.000000</td>\n",
       "      <td>1499.000000</td>\n",
       "      <td>29.000000</td>\n",
       "      <td>5.000000</td>\n",
       "      <td>1.0</td>\n",
       "      <td>2068.000000</td>\n",
       "      <td>4.000000</td>\n",
       "      <td>100.000000</td>\n",
       "      <td>4.000000</td>\n",
       "      <td>5.000000</td>\n",
       "      <td>...</td>\n",
       "      <td>4.000000</td>\n",
       "      <td>80.0</td>\n",
       "      <td>3.000000</td>\n",
       "      <td>40.000000</td>\n",
       "      <td>6.000000</td>\n",
       "      <td>4.000000</td>\n",
       "      <td>40.000000</td>\n",
       "      <td>18.000000</td>\n",
       "      <td>15.000000</td>\n",
       "      <td>17.000000</td>\n",
       "    </tr>\n",
       "  </tbody>\n",
       "</table>\n",
       "<p>8 rows × 26 columns</p>\n",
       "</div>"
      ]
     },
     "execution_count": 18,
     "metadata": {},
     "output_type": "execute_result"
    }
   ],
   "execution_count": 18
  },
  {
   "metadata": {
    "ExecuteTime": {
     "end_time": "2024-11-27T11:51:17.274550Z",
     "start_time": "2024-11-27T11:51:17.262852Z"
    }
   },
   "cell_type": "code",
   "source": "df.isnull()",
   "id": "d6816dbc3271d74e",
   "outputs": [
    {
     "data": {
      "text/plain": [
       "        Age  Attrition  BusinessTravel  DailyRate  Department  \\\n",
       "0     False      False           False      False       False   \n",
       "1     False      False           False      False       False   \n",
       "2     False      False           False      False       False   \n",
       "3     False      False           False      False       False   \n",
       "4     False      False           False      False       False   \n",
       "...     ...        ...             ...        ...         ...   \n",
       "1465  False      False           False      False       False   \n",
       "1466  False      False           False      False       False   \n",
       "1467  False      False           False      False       False   \n",
       "1468  False      False           False      False       False   \n",
       "1469  False      False           False      False       False   \n",
       "\n",
       "      DistanceFromHome  Education  EducationField  EmployeeCount  \\\n",
       "0                False      False           False          False   \n",
       "1                False      False           False          False   \n",
       "2                False      False           False          False   \n",
       "3                False      False           False          False   \n",
       "4                False      False           False          False   \n",
       "...                ...        ...             ...            ...   \n",
       "1465             False      False           False          False   \n",
       "1466             False      False           False          False   \n",
       "1467             False      False           False          False   \n",
       "1468             False      False           False          False   \n",
       "1469             False      False           False          False   \n",
       "\n",
       "      EmployeeNumber  ...  RelationshipSatisfaction  StandardHours  \\\n",
       "0              False  ...                     False          False   \n",
       "1              False  ...                     False          False   \n",
       "2              False  ...                     False          False   \n",
       "3              False  ...                     False          False   \n",
       "4              False  ...                     False          False   \n",
       "...              ...  ...                       ...            ...   \n",
       "1465           False  ...                     False          False   \n",
       "1466           False  ...                     False          False   \n",
       "1467           False  ...                     False          False   \n",
       "1468           False  ...                     False          False   \n",
       "1469           False  ...                     False          False   \n",
       "\n",
       "      StockOptionLevel  TotalWorkingYears  TrainingTimesLastYear  \\\n",
       "0                False              False                  False   \n",
       "1                False              False                  False   \n",
       "2                False              False                  False   \n",
       "3                False              False                  False   \n",
       "4                False              False                  False   \n",
       "...                ...                ...                    ...   \n",
       "1465             False              False                  False   \n",
       "1466             False              False                  False   \n",
       "1467             False              False                  False   \n",
       "1468             False              False                  False   \n",
       "1469             False              False                  False   \n",
       "\n",
       "      WorkLifeBalance  YearsAtCompany  YearsInCurrentRole  \\\n",
       "0               False           False               False   \n",
       "1               False           False               False   \n",
       "2               False           False               False   \n",
       "3               False           False               False   \n",
       "4               False           False               False   \n",
       "...               ...             ...                 ...   \n",
       "1465            False           False               False   \n",
       "1466            False           False               False   \n",
       "1467            False           False               False   \n",
       "1468            False           False               False   \n",
       "1469            False           False               False   \n",
       "\n",
       "      YearsSinceLastPromotion  YearsWithCurrManager  \n",
       "0                       False                 False  \n",
       "1                       False                 False  \n",
       "2                       False                 False  \n",
       "3                       False                 False  \n",
       "4                       False                 False  \n",
       "...                       ...                   ...  \n",
       "1465                    False                 False  \n",
       "1466                    False                 False  \n",
       "1467                    False                 False  \n",
       "1468                    False                 False  \n",
       "1469                    False                 False  \n",
       "\n",
       "[1470 rows x 35 columns]"
      ],
      "text/html": [
       "<div>\n",
       "<style scoped>\n",
       "    .dataframe tbody tr th:only-of-type {\n",
       "        vertical-align: middle;\n",
       "    }\n",
       "\n",
       "    .dataframe tbody tr th {\n",
       "        vertical-align: top;\n",
       "    }\n",
       "\n",
       "    .dataframe thead th {\n",
       "        text-align: right;\n",
       "    }\n",
       "</style>\n",
       "<table border=\"1\" class=\"dataframe\">\n",
       "  <thead>\n",
       "    <tr style=\"text-align: right;\">\n",
       "      <th></th>\n",
       "      <th>Age</th>\n",
       "      <th>Attrition</th>\n",
       "      <th>BusinessTravel</th>\n",
       "      <th>DailyRate</th>\n",
       "      <th>Department</th>\n",
       "      <th>DistanceFromHome</th>\n",
       "      <th>Education</th>\n",
       "      <th>EducationField</th>\n",
       "      <th>EmployeeCount</th>\n",
       "      <th>EmployeeNumber</th>\n",
       "      <th>...</th>\n",
       "      <th>RelationshipSatisfaction</th>\n",
       "      <th>StandardHours</th>\n",
       "      <th>StockOptionLevel</th>\n",
       "      <th>TotalWorkingYears</th>\n",
       "      <th>TrainingTimesLastYear</th>\n",
       "      <th>WorkLifeBalance</th>\n",
       "      <th>YearsAtCompany</th>\n",
       "      <th>YearsInCurrentRole</th>\n",
       "      <th>YearsSinceLastPromotion</th>\n",
       "      <th>YearsWithCurrManager</th>\n",
       "    </tr>\n",
       "  </thead>\n",
       "  <tbody>\n",
       "    <tr>\n",
       "      <th>0</th>\n",
       "      <td>False</td>\n",
       "      <td>False</td>\n",
       "      <td>False</td>\n",
       "      <td>False</td>\n",
       "      <td>False</td>\n",
       "      <td>False</td>\n",
       "      <td>False</td>\n",
       "      <td>False</td>\n",
       "      <td>False</td>\n",
       "      <td>False</td>\n",
       "      <td>...</td>\n",
       "      <td>False</td>\n",
       "      <td>False</td>\n",
       "      <td>False</td>\n",
       "      <td>False</td>\n",
       "      <td>False</td>\n",
       "      <td>False</td>\n",
       "      <td>False</td>\n",
       "      <td>False</td>\n",
       "      <td>False</td>\n",
       "      <td>False</td>\n",
       "    </tr>\n",
       "    <tr>\n",
       "      <th>1</th>\n",
       "      <td>False</td>\n",
       "      <td>False</td>\n",
       "      <td>False</td>\n",
       "      <td>False</td>\n",
       "      <td>False</td>\n",
       "      <td>False</td>\n",
       "      <td>False</td>\n",
       "      <td>False</td>\n",
       "      <td>False</td>\n",
       "      <td>False</td>\n",
       "      <td>...</td>\n",
       "      <td>False</td>\n",
       "      <td>False</td>\n",
       "      <td>False</td>\n",
       "      <td>False</td>\n",
       "      <td>False</td>\n",
       "      <td>False</td>\n",
       "      <td>False</td>\n",
       "      <td>False</td>\n",
       "      <td>False</td>\n",
       "      <td>False</td>\n",
       "    </tr>\n",
       "    <tr>\n",
       "      <th>2</th>\n",
       "      <td>False</td>\n",
       "      <td>False</td>\n",
       "      <td>False</td>\n",
       "      <td>False</td>\n",
       "      <td>False</td>\n",
       "      <td>False</td>\n",
       "      <td>False</td>\n",
       "      <td>False</td>\n",
       "      <td>False</td>\n",
       "      <td>False</td>\n",
       "      <td>...</td>\n",
       "      <td>False</td>\n",
       "      <td>False</td>\n",
       "      <td>False</td>\n",
       "      <td>False</td>\n",
       "      <td>False</td>\n",
       "      <td>False</td>\n",
       "      <td>False</td>\n",
       "      <td>False</td>\n",
       "      <td>False</td>\n",
       "      <td>False</td>\n",
       "    </tr>\n",
       "    <tr>\n",
       "      <th>3</th>\n",
       "      <td>False</td>\n",
       "      <td>False</td>\n",
       "      <td>False</td>\n",
       "      <td>False</td>\n",
       "      <td>False</td>\n",
       "      <td>False</td>\n",
       "      <td>False</td>\n",
       "      <td>False</td>\n",
       "      <td>False</td>\n",
       "      <td>False</td>\n",
       "      <td>...</td>\n",
       "      <td>False</td>\n",
       "      <td>False</td>\n",
       "      <td>False</td>\n",
       "      <td>False</td>\n",
       "      <td>False</td>\n",
       "      <td>False</td>\n",
       "      <td>False</td>\n",
       "      <td>False</td>\n",
       "      <td>False</td>\n",
       "      <td>False</td>\n",
       "    </tr>\n",
       "    <tr>\n",
       "      <th>4</th>\n",
       "      <td>False</td>\n",
       "      <td>False</td>\n",
       "      <td>False</td>\n",
       "      <td>False</td>\n",
       "      <td>False</td>\n",
       "      <td>False</td>\n",
       "      <td>False</td>\n",
       "      <td>False</td>\n",
       "      <td>False</td>\n",
       "      <td>False</td>\n",
       "      <td>...</td>\n",
       "      <td>False</td>\n",
       "      <td>False</td>\n",
       "      <td>False</td>\n",
       "      <td>False</td>\n",
       "      <td>False</td>\n",
       "      <td>False</td>\n",
       "      <td>False</td>\n",
       "      <td>False</td>\n",
       "      <td>False</td>\n",
       "      <td>False</td>\n",
       "    </tr>\n",
       "    <tr>\n",
       "      <th>...</th>\n",
       "      <td>...</td>\n",
       "      <td>...</td>\n",
       "      <td>...</td>\n",
       "      <td>...</td>\n",
       "      <td>...</td>\n",
       "      <td>...</td>\n",
       "      <td>...</td>\n",
       "      <td>...</td>\n",
       "      <td>...</td>\n",
       "      <td>...</td>\n",
       "      <td>...</td>\n",
       "      <td>...</td>\n",
       "      <td>...</td>\n",
       "      <td>...</td>\n",
       "      <td>...</td>\n",
       "      <td>...</td>\n",
       "      <td>...</td>\n",
       "      <td>...</td>\n",
       "      <td>...</td>\n",
       "      <td>...</td>\n",
       "      <td>...</td>\n",
       "    </tr>\n",
       "    <tr>\n",
       "      <th>1465</th>\n",
       "      <td>False</td>\n",
       "      <td>False</td>\n",
       "      <td>False</td>\n",
       "      <td>False</td>\n",
       "      <td>False</td>\n",
       "      <td>False</td>\n",
       "      <td>False</td>\n",
       "      <td>False</td>\n",
       "      <td>False</td>\n",
       "      <td>False</td>\n",
       "      <td>...</td>\n",
       "      <td>False</td>\n",
       "      <td>False</td>\n",
       "      <td>False</td>\n",
       "      <td>False</td>\n",
       "      <td>False</td>\n",
       "      <td>False</td>\n",
       "      <td>False</td>\n",
       "      <td>False</td>\n",
       "      <td>False</td>\n",
       "      <td>False</td>\n",
       "    </tr>\n",
       "    <tr>\n",
       "      <th>1466</th>\n",
       "      <td>False</td>\n",
       "      <td>False</td>\n",
       "      <td>False</td>\n",
       "      <td>False</td>\n",
       "      <td>False</td>\n",
       "      <td>False</td>\n",
       "      <td>False</td>\n",
       "      <td>False</td>\n",
       "      <td>False</td>\n",
       "      <td>False</td>\n",
       "      <td>...</td>\n",
       "      <td>False</td>\n",
       "      <td>False</td>\n",
       "      <td>False</td>\n",
       "      <td>False</td>\n",
       "      <td>False</td>\n",
       "      <td>False</td>\n",
       "      <td>False</td>\n",
       "      <td>False</td>\n",
       "      <td>False</td>\n",
       "      <td>False</td>\n",
       "    </tr>\n",
       "    <tr>\n",
       "      <th>1467</th>\n",
       "      <td>False</td>\n",
       "      <td>False</td>\n",
       "      <td>False</td>\n",
       "      <td>False</td>\n",
       "      <td>False</td>\n",
       "      <td>False</td>\n",
       "      <td>False</td>\n",
       "      <td>False</td>\n",
       "      <td>False</td>\n",
       "      <td>False</td>\n",
       "      <td>...</td>\n",
       "      <td>False</td>\n",
       "      <td>False</td>\n",
       "      <td>False</td>\n",
       "      <td>False</td>\n",
       "      <td>False</td>\n",
       "      <td>False</td>\n",
       "      <td>False</td>\n",
       "      <td>False</td>\n",
       "      <td>False</td>\n",
       "      <td>False</td>\n",
       "    </tr>\n",
       "    <tr>\n",
       "      <th>1468</th>\n",
       "      <td>False</td>\n",
       "      <td>False</td>\n",
       "      <td>False</td>\n",
       "      <td>False</td>\n",
       "      <td>False</td>\n",
       "      <td>False</td>\n",
       "      <td>False</td>\n",
       "      <td>False</td>\n",
       "      <td>False</td>\n",
       "      <td>False</td>\n",
       "      <td>...</td>\n",
       "      <td>False</td>\n",
       "      <td>False</td>\n",
       "      <td>False</td>\n",
       "      <td>False</td>\n",
       "      <td>False</td>\n",
       "      <td>False</td>\n",
       "      <td>False</td>\n",
       "      <td>False</td>\n",
       "      <td>False</td>\n",
       "      <td>False</td>\n",
       "    </tr>\n",
       "    <tr>\n",
       "      <th>1469</th>\n",
       "      <td>False</td>\n",
       "      <td>False</td>\n",
       "      <td>False</td>\n",
       "      <td>False</td>\n",
       "      <td>False</td>\n",
       "      <td>False</td>\n",
       "      <td>False</td>\n",
       "      <td>False</td>\n",
       "      <td>False</td>\n",
       "      <td>False</td>\n",
       "      <td>...</td>\n",
       "      <td>False</td>\n",
       "      <td>False</td>\n",
       "      <td>False</td>\n",
       "      <td>False</td>\n",
       "      <td>False</td>\n",
       "      <td>False</td>\n",
       "      <td>False</td>\n",
       "      <td>False</td>\n",
       "      <td>False</td>\n",
       "      <td>False</td>\n",
       "    </tr>\n",
       "  </tbody>\n",
       "</table>\n",
       "<p>1470 rows × 35 columns</p>\n",
       "</div>"
      ]
     },
     "execution_count": 19,
     "metadata": {},
     "output_type": "execute_result"
    }
   ],
   "execution_count": 19
  },
  {
   "metadata": {},
   "cell_type": "markdown",
   "source": [
    "from this point we can see that there are no missing values in the dataset and we can proceed to the next step\n",
    "but, before that we can change the data of [Jobsatisfaction, Education, EnvironmentSatisfaction, JobInvolvement, PerformanceRating, RelationshipSatisfaction, WorkLifeBalance] to be a string data type which is more readable and easier to understand."
   ],
   "id": "c606f61c55637c"
  },
  {
   "metadata": {
    "ExecuteTime": {
     "end_time": "2024-11-27T11:51:17.355114Z",
     "start_time": "2024-11-27T11:51:17.343124Z"
    }
   },
   "cell_type": "code",
   "source": [
    "df['JobSatisfaction'] = df['JobSatisfaction'].replace(1, 'Low')\n",
    "df['JobSatisfaction'] = df['JobSatisfaction'].replace(2, 'Averge')\n",
    "df['JobSatisfaction'] = df['JobSatisfaction'].replace(3, 'Good')\n",
    "df['JobSatisfaction'] = df['JobSatisfaction'].replace(4, 'Excellent')\n",
    "df['Education'] = df['Education'].replace(1, 'Below College')\n",
    "df['Education'] = df['Education'].replace(2, 'College')\n",
    "df['Education'] = df['Education'].replace(3, 'Bachelor')\n",
    "df['Education'] = df['Education'].replace(4, 'Master')\n",
    "df['Education'] = df['Education'].replace(5, 'Doctor')\n",
    "df['EnvironmentSatisfaction'] = df['EnvironmentSatisfaction'].replace(1, 'Low')\n",
    "df['EnvironmentSatisfaction'] = df['EnvironmentSatisfaction'].replace(2, 'Averge')\n",
    "df['EnvironmentSatisfaction'] = df['EnvironmentSatisfaction'].replace(3, 'Good')\n",
    "df['EnvironmentSatisfaction'] = df['EnvironmentSatisfaction'].replace(4, 'Excellent')\n",
    "df['JobInvolvement'] = df['JobInvolvement'].replace(1, 'Low')\n",
    "df['JobInvolvement'] = df['JobInvolvement'].replace(2, 'Averge')\n",
    "df['JobInvolvement'] = df['JobInvolvement'].replace(3, 'Good')\n",
    "df['JobInvolvement'] = df['JobInvolvement'].replace(4, 'Excellent')\n",
    "df['PerformanceRating'] = df['PerformanceRating'].replace(1, 'Low')\n",
    "df['PerformanceRating'] = df['PerformanceRating'].replace(2, 'Good')\n",
    "df['RelationshipSatisfaction'] = df['RelationshipSatisfaction'].replace(1, 'Low')\n",
    "df['RelationshipSatisfaction'] = df['RelationshipSatisfaction'].replace(2, 'Averge')\n",
    "df['RelationshipSatisfaction'] = df['RelationshipSatisfaction'].replace(3, 'Good')\n",
    "df['RelationshipSatisfaction'] = df['RelationshipSatisfaction'].replace(4, 'Excellent')\n",
    "df['WorkLifeBalance'] = df['WorkLifeBalance'].replace(1, 'Bad')\n",
    "df['WorkLifeBalance'] = df['WorkLifeBalance'].replace(2, 'Good')\n",
    "df['WorkLifeBalance'] = df['WorkLifeBalance'].replace(3, 'Better')\n",
    "df['WorkLifeBalance'] = df['WorkLifeBalance'].replace(4, 'Best')"
   ],
   "id": "81d500f5b5e3fff4",
   "outputs": [],
   "execution_count": 20
  },
  {
   "metadata": {
    "ExecuteTime": {
     "end_time": "2024-11-27T11:51:17.511204Z",
     "start_time": "2024-11-27T11:51:17.501908Z"
    }
   },
   "cell_type": "code",
   "source": "df.head()",
   "id": "5eba67abc1d53c4a",
   "outputs": [
    {
     "data": {
      "text/plain": [
       "   Age Attrition     BusinessTravel  DailyRate              Department  \\\n",
       "0   41       Yes      Travel_Rarely       1102                   Sales   \n",
       "1   49        No  Travel_Frequently        279  Research & Development   \n",
       "2   37       Yes      Travel_Rarely       1373  Research & Development   \n",
       "3   33        No  Travel_Frequently       1392  Research & Development   \n",
       "4   27        No      Travel_Rarely        591  Research & Development   \n",
       "\n",
       "   DistanceFromHome      Education EducationField  EmployeeCount  \\\n",
       "0                 1        College  Life Sciences              1   \n",
       "1                 8  Below College  Life Sciences              1   \n",
       "2                 2        College          Other              1   \n",
       "3                 3         Master  Life Sciences              1   \n",
       "4                 2  Below College        Medical              1   \n",
       "\n",
       "   EmployeeNumber  ... RelationshipSatisfaction StandardHours  \\\n",
       "0               1  ...                      Low            80   \n",
       "1               2  ...                Excellent            80   \n",
       "2               4  ...                   Averge            80   \n",
       "3               5  ...                     Good            80   \n",
       "4               7  ...                Excellent            80   \n",
       "\n",
       "   StockOptionLevel TotalWorkingYears  TrainingTimesLastYear WorkLifeBalance  \\\n",
       "0                 0                 8                      0             Bad   \n",
       "1                 1                10                      3          Better   \n",
       "2                 0                 7                      3          Better   \n",
       "3                 0                 8                      3          Better   \n",
       "4                 1                 6                      3          Better   \n",
       "\n",
       "  YearsAtCompany YearsInCurrentRole  YearsSinceLastPromotion  \\\n",
       "0              6                  4                        0   \n",
       "1             10                  7                        1   \n",
       "2              0                  0                        0   \n",
       "3              8                  7                        3   \n",
       "4              2                  2                        2   \n",
       "\n",
       "   YearsWithCurrManager  \n",
       "0                     5  \n",
       "1                     7  \n",
       "2                     0  \n",
       "3                     0  \n",
       "4                     2  \n",
       "\n",
       "[5 rows x 35 columns]"
      ],
      "text/html": [
       "<div>\n",
       "<style scoped>\n",
       "    .dataframe tbody tr th:only-of-type {\n",
       "        vertical-align: middle;\n",
       "    }\n",
       "\n",
       "    .dataframe tbody tr th {\n",
       "        vertical-align: top;\n",
       "    }\n",
       "\n",
       "    .dataframe thead th {\n",
       "        text-align: right;\n",
       "    }\n",
       "</style>\n",
       "<table border=\"1\" class=\"dataframe\">\n",
       "  <thead>\n",
       "    <tr style=\"text-align: right;\">\n",
       "      <th></th>\n",
       "      <th>Age</th>\n",
       "      <th>Attrition</th>\n",
       "      <th>BusinessTravel</th>\n",
       "      <th>DailyRate</th>\n",
       "      <th>Department</th>\n",
       "      <th>DistanceFromHome</th>\n",
       "      <th>Education</th>\n",
       "      <th>EducationField</th>\n",
       "      <th>EmployeeCount</th>\n",
       "      <th>EmployeeNumber</th>\n",
       "      <th>...</th>\n",
       "      <th>RelationshipSatisfaction</th>\n",
       "      <th>StandardHours</th>\n",
       "      <th>StockOptionLevel</th>\n",
       "      <th>TotalWorkingYears</th>\n",
       "      <th>TrainingTimesLastYear</th>\n",
       "      <th>WorkLifeBalance</th>\n",
       "      <th>YearsAtCompany</th>\n",
       "      <th>YearsInCurrentRole</th>\n",
       "      <th>YearsSinceLastPromotion</th>\n",
       "      <th>YearsWithCurrManager</th>\n",
       "    </tr>\n",
       "  </thead>\n",
       "  <tbody>\n",
       "    <tr>\n",
       "      <th>0</th>\n",
       "      <td>41</td>\n",
       "      <td>Yes</td>\n",
       "      <td>Travel_Rarely</td>\n",
       "      <td>1102</td>\n",
       "      <td>Sales</td>\n",
       "      <td>1</td>\n",
       "      <td>College</td>\n",
       "      <td>Life Sciences</td>\n",
       "      <td>1</td>\n",
       "      <td>1</td>\n",
       "      <td>...</td>\n",
       "      <td>Low</td>\n",
       "      <td>80</td>\n",
       "      <td>0</td>\n",
       "      <td>8</td>\n",
       "      <td>0</td>\n",
       "      <td>Bad</td>\n",
       "      <td>6</td>\n",
       "      <td>4</td>\n",
       "      <td>0</td>\n",
       "      <td>5</td>\n",
       "    </tr>\n",
       "    <tr>\n",
       "      <th>1</th>\n",
       "      <td>49</td>\n",
       "      <td>No</td>\n",
       "      <td>Travel_Frequently</td>\n",
       "      <td>279</td>\n",
       "      <td>Research &amp; Development</td>\n",
       "      <td>8</td>\n",
       "      <td>Below College</td>\n",
       "      <td>Life Sciences</td>\n",
       "      <td>1</td>\n",
       "      <td>2</td>\n",
       "      <td>...</td>\n",
       "      <td>Excellent</td>\n",
       "      <td>80</td>\n",
       "      <td>1</td>\n",
       "      <td>10</td>\n",
       "      <td>3</td>\n",
       "      <td>Better</td>\n",
       "      <td>10</td>\n",
       "      <td>7</td>\n",
       "      <td>1</td>\n",
       "      <td>7</td>\n",
       "    </tr>\n",
       "    <tr>\n",
       "      <th>2</th>\n",
       "      <td>37</td>\n",
       "      <td>Yes</td>\n",
       "      <td>Travel_Rarely</td>\n",
       "      <td>1373</td>\n",
       "      <td>Research &amp; Development</td>\n",
       "      <td>2</td>\n",
       "      <td>College</td>\n",
       "      <td>Other</td>\n",
       "      <td>1</td>\n",
       "      <td>4</td>\n",
       "      <td>...</td>\n",
       "      <td>Averge</td>\n",
       "      <td>80</td>\n",
       "      <td>0</td>\n",
       "      <td>7</td>\n",
       "      <td>3</td>\n",
       "      <td>Better</td>\n",
       "      <td>0</td>\n",
       "      <td>0</td>\n",
       "      <td>0</td>\n",
       "      <td>0</td>\n",
       "    </tr>\n",
       "    <tr>\n",
       "      <th>3</th>\n",
       "      <td>33</td>\n",
       "      <td>No</td>\n",
       "      <td>Travel_Frequently</td>\n",
       "      <td>1392</td>\n",
       "      <td>Research &amp; Development</td>\n",
       "      <td>3</td>\n",
       "      <td>Master</td>\n",
       "      <td>Life Sciences</td>\n",
       "      <td>1</td>\n",
       "      <td>5</td>\n",
       "      <td>...</td>\n",
       "      <td>Good</td>\n",
       "      <td>80</td>\n",
       "      <td>0</td>\n",
       "      <td>8</td>\n",
       "      <td>3</td>\n",
       "      <td>Better</td>\n",
       "      <td>8</td>\n",
       "      <td>7</td>\n",
       "      <td>3</td>\n",
       "      <td>0</td>\n",
       "    </tr>\n",
       "    <tr>\n",
       "      <th>4</th>\n",
       "      <td>27</td>\n",
       "      <td>No</td>\n",
       "      <td>Travel_Rarely</td>\n",
       "      <td>591</td>\n",
       "      <td>Research &amp; Development</td>\n",
       "      <td>2</td>\n",
       "      <td>Below College</td>\n",
       "      <td>Medical</td>\n",
       "      <td>1</td>\n",
       "      <td>7</td>\n",
       "      <td>...</td>\n",
       "      <td>Excellent</td>\n",
       "      <td>80</td>\n",
       "      <td>1</td>\n",
       "      <td>6</td>\n",
       "      <td>3</td>\n",
       "      <td>Better</td>\n",
       "      <td>2</td>\n",
       "      <td>2</td>\n",
       "      <td>2</td>\n",
       "      <td>2</td>\n",
       "    </tr>\n",
       "  </tbody>\n",
       "</table>\n",
       "<p>5 rows × 35 columns</p>\n",
       "</div>"
      ]
     },
     "execution_count": 21,
     "metadata": {},
     "output_type": "execute_result"
    }
   ],
   "execution_count": 21
  },
  {
   "metadata": {},
   "cell_type": "markdown",
   "source": [
    "# Data Exploration and Data Visualization\n",
    "as the data is clean and ready to be explored, we can start by exploring the data to get a better understanding of the data"
   ],
   "id": "6d5a735301676fd4"
  },
  {
   "metadata": {
    "ExecuteTime": {
     "end_time": "2024-11-27T11:51:17.895704Z",
     "start_time": "2024-11-27T11:51:17.680257Z"
    }
   },
   "cell_type": "code",
   "source": "sns.countplot(df['Attrition'], label = 'Attrition Count')",
   "id": "d2089fbbf2ebc44f",
   "outputs": [
    {
     "data": {
      "text/plain": [
       "<Axes: xlabel='count', ylabel='Attrition'>"
      ]
     },
     "execution_count": 22,
     "metadata": {},
     "output_type": "execute_result"
    },
    {
     "data": {
      "text/plain": [
       "<Figure size 640x480 with 1 Axes>"
      ],
      "image/png": "[encoded data removed]"
     },
     "metadata": {},
     "output_type": "display_data"
    }
   ],
   "execution_count": 22
  },
  {
   "metadata": {
    "ExecuteTime": {
     "end_time": "2024-11-27T11:51:19.102379Z",
     "start_time": "2024-11-27T11:51:18.130649Z"
    }
   },
   "cell_type": "code",
   "source": [
    "plt.figure(figsize=(20,20))\n",
    "plt.subplot(411)\n",
    "sns.countplot(x='Age',hue='Attrition',data=df)\n",
    "plt.subplot(412)\n",
    "sns.countplot(x='JobRole',hue='Attrition',data=df)\n",
    "plt.xticks(rotation=90)\n",
    "plt.subplot(413)\n",
    "sns.countplot(x='MaritalStatus',hue='Attrition',data=df)\n",
    "plt.subplot(414)\n",
    "sns.countplot(x='JobInvolvement',hue='Attrition',data=df)"
   ],
   "id": "f8a8bcabcc58182f",
   "outputs": [
    {
     "data": {
      "text/plain": [
       "<Axes: xlabel='JobInvolvement', ylabel='count'>"
      ]
     },
     "execution_count": 23,
     "metadata": {},
     "output_type": "execute_result"
    },
    {
     "data": {
      "text/plain": [
       "<Figure size 2000x2000 with 4 Axes>"
      ],
      "image/png": "[encoded data removed]"
     },
     "metadata": {},
     "output_type": "display_data"
    }
   ],
   "execution_count": 23
  },
  {
   "metadata": {
    "ExecuteTime": {
     "end_time": "2024-11-27T11:51:19.335798Z",
     "start_time": "2024-11-27T11:51:19.212975Z"
    }
   },
   "cell_type": "code",
   "source": [
    "plt.figure(figsize=(8,5))\n",
    "sns.kdeplot(x=df['Age'],color='MediumVioletRed',fill=True,label='Age')\n",
    "plt.axvline(x=df['Age'].mean(),color='k',linestyle =\"--\",label='Mean Age: 36.923')\n",
    "plt.legend()\n",
    "plt.title('Distribution of Age')\n",
    "plt.show()"
   ],
   "id": "ffed97de1227a533",
   "outputs": [
    {
     "data": {
      "text/plain": [
       "<Figure size 800x500 with 1 Axes>"
      ],
      "image/png": "[encoded data removed]"
     },
     "metadata": {},
     "output_type": "display_data"
    }
   ],
   "execution_count": 24
  },
  {
   "metadata": {
    "ExecuteTime": {
     "end_time": "2024-11-27T11:51:19.544167Z",
     "start_time": "2024-11-27T11:51:19.406059Z"
    }
   },
   "cell_type": "code",
   "source": [
    "plt.figure(figsize=(8,5))\n",
    "sns.kdeplot(x=df['TotalWorkingYears'],color='MediumVioletRed',fill=True,label='TotalWorkingYears')\n",
    "plt.axvline(x=df['TotalWorkingYears'].mean(),color='k',linestyle =\"--\",label='Mean TotalWorkingYears: 11.279')\n",
    "plt.legend()\n",
    "plt.title('Distribution of TotalWorkingYears')\n",
    "plt.show()"
   ],
   "id": "ed861dbd9dca0334",
   "outputs": [
    {
     "data": {
      "text/plain": [
       "<Figure size 800x500 with 1 Axes>"
      ],
      "image/png": "[encoded data removed]"
     },
     "metadata": {},
     "output_type": "display_data"
    }
   ],
   "execution_count": 25
  },
  {
   "metadata": {
    "ExecuteTime": {
     "end_time": "2024-11-27T11:51:19.671845Z",
     "start_time": "2024-11-27T11:51:19.559627Z"
    }
   },
   "cell_type": "code",
   "source": [
    "# job satisfaction\n",
    "plt.figure(figsize=(8,5))\n",
    "sns.countplot(x='JobSatisfaction',hue='Attrition',data=df)"
   ],
   "id": "3e34f64f11c063c6",
   "outputs": [
    {
     "data": {
      "text/plain": [
       "<Axes: xlabel='JobSatisfaction', ylabel='count'>"
      ]
     },
     "execution_count": 26,
     "metadata": {},
     "output_type": "execute_result"
    },
    {
     "data": {
      "text/plain": [
       "<Figure size 800x500 with 1 Axes>"
      ],
      "image/png": "[encoded data removed]"
     },
     "metadata": {},
     "output_type": "display_data"
    }
   ],
   "execution_count": 26
  },
  {
   "metadata": {
    "ExecuteTime": {
     "end_time": "2024-11-27T11:51:19.736478Z",
     "start_time": "2024-11-27T11:51:19.680811Z"
    }
   },
   "cell_type": "code",
   "source": [
    "# Education\n",
    "plt.pie(df['Education'].value_counts(), labels = df['Education'].value_counts().index, autopct='%1.1f%%')\n"
   ],
   "id": "3dd33afb48d34fa4",
   "outputs": [
    {
     "data": {
      "text/plain": [
       "([<matplotlib.patches.Wedge at 0x2aed22f6090>,\n",
       "  <matplotlib.patches.Wedge at 0x2aed14b3380>,\n",
       "  <matplotlib.patches.Wedge at 0x2aed23027b0>,\n",
       "  <matplotlib.patches.Wedge at 0x2aed2302e10>,\n",
       "  <matplotlib.patches.Wedge at 0x2aed2303410>],\n",
       " [Text(0.3754857506198448, 1.0339296161158418, 'Bachelor'),\n",
       "  Text(-1.0870032443661248, -0.16859402936497775, 'Master'),\n",
       "  Text(0.03995548572036188, -1.09927410556278, 'College'),\n",
       "  Text(0.9269929359739639, -0.592185863267919, 'Below College'),\n",
       "  Text(1.0942172941140829, -0.11264330100656154, 'Doctor')],\n",
       " [Text(0.20481040942900622, 0.5639616087904591, '38.9%'),\n",
       "  Text(-0.5929108605633407, -0.09196037965362422, '27.1%'),\n",
       "  Text(0.021793901302015566, -0.5996040575796981, '19.2%'),\n",
       "  Text(0.505632510531253, -0.32301047087341034, '11.6%'),\n",
       "  Text(0.5968457967894997, -0.06144180054903356, '3.3%')])"
      ]
     },
     "execution_count": 27,
     "metadata": {},
     "output_type": "execute_result"
    },
    {
     "data": {
      "text/plain": [
       "<Figure size 640x480 with 1 Axes>"
      ],
      "image/png": "[encoded data removed]"
     },
     "metadata": {},
     "output_type": "display_data"
    }
   ],
   "execution_count": 27
  },
  {
   "metadata": {
    "ExecuteTime": {
     "end_time": "2024-11-27T11:51:19.798823Z",
     "start_time": "2024-11-27T11:51:19.746033Z"
    }
   },
   "cell_type": "code",
   "source": [
    "# Attrition and Gender\n",
    "plt.pie(df['Gender'].value_counts(), labels = df['Gender'].value_counts().index, autopct='%1.1f%%')"
   ],
   "id": "a0fc4b106f821e57",
   "outputs": [
    {
     "data": {
      "text/plain": [
       "([<matplotlib.patches.Wedge at 0x2aed2369d90>,\n",
       "  <matplotlib.patches.Wedge at 0x2aed15fdc10>],\n",
       " [Text(-0.33991877217145816, 1.046162142464278, 'Male'),\n",
       "  Text(0.3399188701202255, -1.0461621106387813, 'Female')],\n",
       " [Text(-0.18541023936624987, 0.5706338958896061, '60.0%'),\n",
       "  Text(0.18541029279285026, -0.5706338785302443, '40.0%')])"
      ]
     },
     "execution_count": 28,
     "metadata": {},
     "output_type": "execute_result"
    },
    {
     "data": {
      "text/plain": [
       "<Figure size 640x480 with 1 Axes>"
      ],
      "image/png": "[encoded data removed]"
     },
     "metadata": {},
     "output_type": "display_data"
    }
   ],
   "execution_count": 28
  },
  {
   "metadata": {},
   "cell_type": "markdown",
   "source": "# Feature Engineering",
   "id": "32b04eb443eafef5"
  },
  {
   "metadata": {
    "ExecuteTime": {
     "end_time": "2024-11-27T11:51:19.839865Z",
     "start_time": "2024-11-27T11:51:19.819595Z"
    }
   },
   "cell_type": "code",
   "source": [
    "# Feature Engineering\n",
    "from sklearn.preprocessing import LabelEncoder, StandardScaler\n",
    "\n",
    "# Encode categorical variables\n",
    "label_encoders = {}\n",
    "for column in df.select_dtypes(include=['object']).columns:\n",
    "    label_encoders[column] = LabelEncoder()\n",
    "    df[column] = label_encoders[column].fit_transform(df[column])\n",
    "\n",
    "# Scale numerical features\n",
    "scaler = StandardScaler()\n",
    "numerical_features = df.select_dtypes(include=['int64', 'float64']).columns\n",
    "df[numerical_features] = scaler.fit_transform(df[numerical_features])\n",
    "\n",
    "# Display the first few rows of the preprocessed DataFrame\n",
    "df.head()"
   ],
   "id": "19b720d28315d085",
   "outputs": [
    {
     "data": {
      "text/plain": [
       "        Age  Attrition  BusinessTravel  DailyRate  Department  \\\n",
       "0  0.446350          1               2   0.742527           2   \n",
       "1  1.322365          0               1  -1.297775           1   \n",
       "2  0.008343          1               2   1.414363           1   \n",
       "3 -0.429664          0               1   1.461466           1   \n",
       "4 -1.086676          0               2  -0.524295           1   \n",
       "\n",
       "   DistanceFromHome  Education  EducationField  EmployeeCount  EmployeeNumber  \\\n",
       "0         -1.010909          2               1            0.0       -1.701283   \n",
       "1         -0.147150          1               1            0.0       -1.699621   \n",
       "2         -0.887515          2               4            0.0       -1.696298   \n",
       "3         -0.764121          4               1            0.0       -1.694636   \n",
       "4         -0.887515          1               3            0.0       -1.691313   \n",
       "\n",
       "   ...  RelationshipSatisfaction  StandardHours  StockOptionLevel  \\\n",
       "0  ...                         3            0.0         -0.932014   \n",
       "1  ...                         1            0.0          0.241988   \n",
       "2  ...                         0            0.0         -0.932014   \n",
       "3  ...                         2            0.0         -0.932014   \n",
       "4  ...                         1            0.0          0.241988   \n",
       "\n",
       "   TotalWorkingYears  TrainingTimesLastYear  WorkLifeBalance  YearsAtCompany  \\\n",
       "0          -0.421642              -2.171982                0       -0.164613   \n",
       "1          -0.164511               0.155707                2        0.488508   \n",
       "2          -0.550208               0.155707                2       -1.144294   \n",
       "3          -0.421642               0.155707                2        0.161947   \n",
       "4          -0.678774               0.155707                2       -0.817734   \n",
       "\n",
       "   YearsInCurrentRole  YearsSinceLastPromotion  YearsWithCurrManager  \n",
       "0           -0.063296                -0.679146              0.245834  \n",
       "1            0.764998                -0.368715              0.806541  \n",
       "2           -1.167687                -0.679146             -1.155935  \n",
       "3            0.764998                 0.252146             -1.155935  \n",
       "4           -0.615492                -0.058285             -0.595227  \n",
       "\n",
       "[5 rows x 35 columns]"
      ],
      "text/html": [
       "<div>\n",
       "<style scoped>\n",
       "    .dataframe tbody tr th:only-of-type {\n",
       "        vertical-align: middle;\n",
       "    }\n",
       "\n",
       "    .dataframe tbody tr th {\n",
       "        vertical-align: top;\n",
       "    }\n",
       "\n",
       "    .dataframe thead th {\n",
       "        text-align: right;\n",
       "    }\n",
       "</style>\n",
       "<table border=\"1\" class=\"dataframe\">\n",
       "  <thead>\n",
       "    <tr style=\"text-align: right;\">\n",
       "      <th></th>\n",
       "      <th>Age</th>\n",
       "      <th>Attrition</th>\n",
       "      <th>BusinessTravel</th>\n",
       "      <th>DailyRate</th>\n",
       "      <th>Department</th>\n",
       "      <th>DistanceFromHome</th>\n",
       "      <th>Education</th>\n",
       "      <th>EducationField</th>\n",
       "      <th>EmployeeCount</th>\n",
       "      <th>EmployeeNumber</th>\n",
       "      <th>...</th>\n",
       "      <th>RelationshipSatisfaction</th>\n",
       "      <th>StandardHours</th>\n",
       "      <th>StockOptionLevel</th>\n",
       "      <th>TotalWorkingYears</th>\n",
       "      <th>TrainingTimesLastYear</th>\n",
       "      <th>WorkLifeBalance</th>\n",
       "      <th>YearsAtCompany</th>\n",
       "      <th>YearsInCurrentRole</th>\n",
       "      <th>YearsSinceLastPromotion</th>\n",
       "      <th>YearsWithCurrManager</th>\n",
       "    </tr>\n",
       "  </thead>\n",
       "  <tbody>\n",
       "    <tr>\n",
       "      <th>0</th>\n",
       "      <td>0.446350</td>\n",
       "      <td>1</td>\n",
       "      <td>2</td>\n",
       "      <td>0.742527</td>\n",
       "      <td>2</td>\n",
       "      <td>-1.010909</td>\n",
       "      <td>2</td>\n",
       "      <td>1</td>\n",
       "      <td>0.0</td>\n",
       "      <td>-1.701283</td>\n",
       "      <td>...</td>\n",
       "      <td>3</td>\n",
       "      <td>0.0</td>\n",
       "      <td>-0.932014</td>\n",
       "      <td>-0.421642</td>\n",
       "      <td>-2.171982</td>\n",
       "      <td>0</td>\n",
       "      <td>-0.164613</td>\n",
       "      <td>-0.063296</td>\n",
       "      <td>-0.679146</td>\n",
       "      <td>0.245834</td>\n",
       "    </tr>\n",
       "    <tr>\n",
       "      <th>1</th>\n",
       "      <td>1.322365</td>\n",
       "      <td>0</td>\n",
       "      <td>1</td>\n",
       "      <td>-1.297775</td>\n",
       "      <td>1</td>\n",
       "      <td>-0.147150</td>\n",
       "      <td>1</td>\n",
       "      <td>1</td>\n",
       "      <td>0.0</td>\n",
       "      <td>-1.699621</td>\n",
       "      <td>...</td>\n",
       "      <td>1</td>\n",
       "      <td>0.0</td>\n",
       "      <td>0.241988</td>\n",
       "      <td>-0.164511</td>\n",
       "      <td>0.155707</td>\n",
       "      <td>2</td>\n",
       "      <td>0.488508</td>\n",
       "      <td>0.764998</td>\n",
       "      <td>-0.368715</td>\n",
       "      <td>0.806541</td>\n",
       "    </tr>\n",
       "    <tr>\n",
       "      <th>2</th>\n",
       "      <td>0.008343</td>\n",
       "      <td>1</td>\n",
       "      <td>2</td>\n",
       "      <td>1.414363</td>\n",
       "      <td>1</td>\n",
       "      <td>-0.887515</td>\n",
       "      <td>2</td>\n",
       "      <td>4</td>\n",
       "      <td>0.0</td>\n",
       "      <td>-1.696298</td>\n",
       "      <td>...</td>\n",
       "      <td>0</td>\n",
       "      <td>0.0</td>\n",
       "      <td>-0.932014</td>\n",
       "      <td>-0.550208</td>\n",
       "      <td>0.155707</td>\n",
       "      <td>2</td>\n",
       "      <td>-1.144294</td>\n",
       "      <td>-1.167687</td>\n",
       "      <td>-0.679146</td>\n",
       "      <td>-1.155935</td>\n",
       "    </tr>\n",
       "    <tr>\n",
       "      <th>3</th>\n",
       "      <td>-0.429664</td>\n",
       "      <td>0</td>\n",
       "      <td>1</td>\n",
       "      <td>1.461466</td>\n",
       "      <td>1</td>\n",
       "      <td>-0.764121</td>\n",
       "      <td>4</td>\n",
       "      <td>1</td>\n",
       "      <td>0.0</td>\n",
       "      <td>-1.694636</td>\n",
       "      <td>...</td>\n",
       "      <td>2</td>\n",
       "      <td>0.0</td>\n",
       "      <td>-0.932014</td>\n",
       "      <td>-0.421642</td>\n",
       "      <td>0.155707</td>\n",
       "      <td>2</td>\n",
       "      <td>0.161947</td>\n",
       "      <td>0.764998</td>\n",
       "      <td>0.252146</td>\n",
       "      <td>-1.155935</td>\n",
       "    </tr>\n",
       "    <tr>\n",
       "      <th>4</th>\n",
       "      <td>-1.086676</td>\n",
       "      <td>0</td>\n",
       "      <td>2</td>\n",
       "      <td>-0.524295</td>\n",
       "      <td>1</td>\n",
       "      <td>-0.887515</td>\n",
       "      <td>1</td>\n",
       "      <td>3</td>\n",
       "      <td>0.0</td>\n",
       "      <td>-1.691313</td>\n",
       "      <td>...</td>\n",
       "      <td>1</td>\n",
       "      <td>0.0</td>\n",
       "      <td>0.241988</td>\n",
       "      <td>-0.678774</td>\n",
       "      <td>0.155707</td>\n",
       "      <td>2</td>\n",
       "      <td>-0.817734</td>\n",
       "      <td>-0.615492</td>\n",
       "      <td>-0.058285</td>\n",
       "      <td>-0.595227</td>\n",
       "    </tr>\n",
       "  </tbody>\n",
       "</table>\n",
       "<p>5 rows × 35 columns</p>\n",
       "</div>"
      ]
     },
     "execution_count": 29,
     "metadata": {},
     "output_type": "execute_result"
    }
   ],
   "execution_count": 29
  },
  {
   "metadata": {},
   "cell_type": "markdown",
   "source": "# Model Section",
   "id": "e571b76040c4808d"
  },
  {
   "metadata": {
    "ExecuteTime": {
     "end_time": "2024-11-27T11:51:20.084159Z",
     "start_time": "2024-11-27T11:51:19.869616Z"
    }
   },
   "cell_type": "code",
   "source": [
    "# Model Selection\n",
    "from sklearn.linear_model import LogisticRegression, LinearRegression\n",
    "from sklearn.ensemble import RandomForestClassifier\n",
    "from sklearn.svm import SVC\n",
    "\n",
    "# Define the models\n",
    "models = {\n",
    "    # 'Linear Regression': LinearRegression(), this is not a classification model and is not suitable for this dataset\n",
    "    'Logistic Regression': LogisticRegression(),\n",
    "    'Random Forest': RandomForestClassifier(),\n",
    "    'Support Vector Machine': SVC()\n",
    "}\n",
    "# lets take 3 models to predict the attrition of the employees and then compare the results to choose the best model for prediction and then use that model to predict the attrition of the employees"
   ],
   "id": "e84019010d924560",
   "outputs": [],
   "execution_count": 30
  },
  {
   "metadata": {},
   "cell_type": "markdown",
   "source": "# Model Training",
   "id": "dc852461f618a0a8"
  },
  {
   "metadata": {
    "ExecuteTime": {
     "end_time": "2024-11-27T11:51:20.343870Z",
     "start_time": "2024-11-27T11:51:20.114653Z"
    }
   },
   "cell_type": "code",
   "source": [
    "from sklearn.model_selection import train_test_split\n",
    "\n",
    "# Split the data into features and target\n",
    "X = df.drop('Attrition', axis=1)\n",
    "y = df['Attrition']\n",
    "\n",
    "# Split the data into training and testing sets\n",
    "X_train, X_test, y_train, y_test = train_test_split(X, y, test_size=0.2, random_state=42)\n",
    "\n",
    "# Train the models\n",
    "for name, model in models.items():\n",
    "    model.fit(X_train, y_train)\n",
    "    print(f'{name} trained successfully.')"
   ],
   "id": "e9affe5cdec23213",
   "outputs": [
    {
     "name": "stdout",
     "output_type": "stream",
     "text": [
      "Logistic Regression trained successfully.\n",
      "Random Forest trained successfully.\n",
      "Support Vector Machine trained successfully.\n"
     ]
    }
   ],
   "execution_count": 31
  },
  {
   "metadata": {},
   "cell_type": "markdown",
   "source": "here we are use 4 models to predict the attrition of the employees, and we will use the Random Forest model to predict the attrition of the employees as it is the best model for this dataset. But still we will use the other models to compare the results. So total 4 different models are used to predict the attrition of the employees and compare the results.",
   "id": "2f6dddf1bd8e720c"
  },
  {
   "metadata": {},
   "cell_type": "markdown",
   "source": "we are going to evaluate the models using the accuracy score, confusion matrix, and classification report",
   "id": "e3645b80c0147185"
  },
  {
   "metadata": {},
   "cell_type": "markdown",
   "source": "# Model Evaluation",
   "id": "b11e6fbfce5ef1fb"
  },
  {
   "metadata": {
    "ExecuteTime": {
     "end_time": "2024-11-27T11:51:20.669137Z",
     "start_time": "2024-11-27T11:51:20.421670Z"
    }
   },
   "cell_type": "code",
   "source": [
    "\n",
    "# evaluate the models\n",
    "for model_name, model in models.items():\n",
    "    model.fit(X_train, y_train)\n",
    "    y_pred = model.predict(X_test)\n",
    "    accuracy = accuracy_score(y_test, y_pred)\n",
    "    print(f'{model_name} Accuracy: {accuracy}')\n",
    "    print(f'{model_name} Confusion Matrix:')\n",
    "    print(confusion_matrix(y_test, y_pred))\n",
    "    print(f'{model_name} Classification Report:')\n",
    "    print(classification_report(y_test, y_pred))\n",
    "    print()"
   ],
   "id": "2882bdee3e327c2",
   "outputs": [
    {
     "name": "stdout",
     "output_type": "stream",
     "text": [
      "Logistic Regression Accuracy: 0.8537414965986394\n",
      "Logistic Regression Confusion Matrix:\n",
      "[[242  13]\n",
      " [ 30   9]]\n",
      "Logistic Regression Classification Report:\n",
      "              precision    recall  f1-score   support\n",
      "\n",
      "           0       0.89      0.95      0.92       255\n",
      "           1       0.41      0.23      0.30        39\n",
      "\n",
      "    accuracy                           0.85       294\n",
      "   macro avg       0.65      0.59      0.61       294\n",
      "weighted avg       0.83      0.85      0.84       294\n",
      "\n",
      "\n",
      "Random Forest Accuracy: 0.8809523809523809\n",
      "Random Forest Confusion Matrix:\n",
      "[[254   1]\n",
      " [ 34   5]]\n",
      "Random Forest Classification Report:\n",
      "              precision    recall  f1-score   support\n",
      "\n",
      "           0       0.88      1.00      0.94       255\n",
      "           1       0.83      0.13      0.22        39\n",
      "\n",
      "    accuracy                           0.88       294\n",
      "   macro avg       0.86      0.56      0.58       294\n",
      "weighted avg       0.88      0.88      0.84       294\n",
      "\n",
      "\n",
      "Support Vector Machine Accuracy: 0.8673469387755102\n",
      "Support Vector Machine Confusion Matrix:\n",
      "[[255   0]\n",
      " [ 39   0]]\n",
      "Support Vector Machine Classification Report:\n",
      "              precision    recall  f1-score   support\n",
      "\n",
      "           0       0.87      1.00      0.93       255\n",
      "           1       0.00      0.00      0.00        39\n",
      "\n",
      "    accuracy                           0.87       294\n",
      "   macro avg       0.43      0.50      0.46       294\n",
      "weighted avg       0.75      0.87      0.81       294\n",
      "\n",
      "\n"
     ]
    }
   ],
   "execution_count": 32
  },
  {
   "metadata": {
    "ExecuteTime": {
     "end_time": "2024-11-27T11:51:20.701759Z",
     "start_time": "2024-11-27T11:51:20.697152Z"
    }
   },
   "cell_type": "code",
   "source": [
    "\n",
    "# the problem is that the model is not predicting the positive class cause the data is imbalanced and consist of 84% of the negative class and 16% of the positive class lol so SVM so, data is needed to be added and trained to the model which is done in the feature cells check it out"
   ],
   "id": "c5293d0e46f57252",
   "outputs": [
    {
     "data": {
      "text/plain": [
       "'Logistic Regression F1 Score: 0.29508196721311475\\nRandom Forest F1 Score: 0.22727272727272727\\nSupport Vector Machine F1 Score: 0.0 --- sus here'"
      ]
     },
     "execution_count": 33,
     "metadata": {},
     "output_type": "execute_result"
    }
   ],
   "execution_count": 33
  },
  {
   "metadata": {
    "ExecuteTime": {
     "end_time": "2024-11-27T11:51:20.762566Z",
     "start_time": "2024-11-27T11:51:20.731565Z"
    }
   },
   "cell_type": "code",
   "source": [
    "from sklearn.metrics import mean_absolute_error, r2_score\n",
    "mae = mean_absolute_error(y_test, y_pred)\n",
    "print(f'Mean Absolute Error: {mae}')\n",
    "r2  = r2_score(y_test, y_pred)\n",
    "print(f'R2 Score: {r2}')\n",
    "# R2 score is not suitable for classification models"
   ],
   "id": "faf86cd652e4a693",
   "outputs": [
    {
     "name": "stdout",
     "output_type": "stream",
     "text": [
      "Mean Absolute Error: 0.1326530612244898\n",
      "R2 Score: -0.15294117647058836\n"
     ]
    }
   ],
   "execution_count": 34
  },
  {
   "metadata": {
    "ExecuteTime": {
     "end_time": "2024-11-27T11:51:20.815686Z",
     "start_time": "2024-11-27T11:51:20.788969Z"
    }
   },
   "cell_type": "code",
   "source": [
    "# test predcition\n",
    "logreg = LogisticRegression()\n",
    "logreg.fit(X_train, y_train)\n",
    "predict = logreg.predict(X_test)\n",
    "cnf = confusion_matrix(y_pred, predict)\n",
    "print(f\"confuse matix : {cnf}\")"
   ],
   "id": "e4523ccf1e81c45e",
   "outputs": [
    {
     "name": "stdout",
     "output_type": "stream",
     "text": [
      "confuse matix : [[272  22]\n",
      " [  0   0]]\n"
     ]
    }
   ],
   "execution_count": 35
  },
  {
   "metadata": {
    "ExecuteTime": {
     "end_time": "2024-11-27T11:51:20.843134Z",
     "start_time": "2024-11-27T11:51:20.839123Z"
    }
   },
   "cell_type": "code",
   "source": "print(f\"Accuracy score: {accuracy_score(y_pred, predict)}\")",
   "id": "848f9d4abc44c6d2",
   "outputs": [
    {
     "name": "stdout",
     "output_type": "stream",
     "text": [
      "Accuracy score: 0.9251700680272109\n"
     ]
    }
   ],
   "execution_count": 36
  },
  {
   "metadata": {
    "ExecuteTime": {
     "end_time": "2024-11-27T13:33:03.451600Z",
     "start_time": "2024-11-27T13:33:03.439856Z"
    }
   },
   "cell_type": "code",
   "source": [
    "# cross validation : k fold cross validation\n",
    "from sklearn.model_selection import KFold\n",
    "kfold = KFold(n_splits=4, shuffle=True, random_state=42)\n",
    "for i, (trainidx, testidx) in enumerate(kfold.split(X)):\n",
    "    print(f\"Fold {i}\")\n",
    "    print(f\" Train index {trainidx} \\n Test index {testidx}\")"
   ],
   "id": "778506ffb0ea46a7",
   "outputs": [
    {
     "name": "stdout",
     "output_type": "stream",
     "text": [
      "Fold 0\n",
      " Train index [   0    1    2 ... 1466 1467 1469] \n",
      " Test index [  15   23   29   30   31   32   43   44   48   49   51   56   58   59\n",
      "   63   65   67   70   76   78   81   83   86   99  101  107  111  113\n",
      "  115  123  128  141  155  163  168  174  175  179  184  188  192  196\n",
      "  198  203  208  210  218  220  221  231  233  236  237  239  240  243\n",
      "  244  247  254  259  261  265  270  271  274  275  277  285  289  297\n",
      "  303  306  309  310  316  322  324  332  339  342  344  346  350  351\n",
      "  353  354  358  361  363  365  367  371  374  380  381  382  394  398\n",
      "  405  411  415  416  420  422  423  425  426  427  428  429  430  432\n",
      "  433  439  451  453  462  464  478  479  481  482  485  486  493  494\n",
      "  497  506  514  522  526  528  532  534  535  538  543  549  551  560\n",
      "  561  566  567  570  571  573  578  582  583  584  588  591  594  601\n",
      "  602  607  615  617  619  621  626  628  631  651  661  665  670  677\n",
      "  679  682  691  700  704  706  712  721  727  733  736  741  743  744\n",
      "  752  759  765  770  777  781  782  788  792  793  796  807  809  811\n",
      "  813  816  818  820  824  836  841  843  858  862  864  881  882  885\n",
      "  886  888  889  892  894  898  901  903  907  915  917  921  922  923\n",
      "  926  930  936  942  943  945  946  948  958  963  964  965  970  973\n",
      "  976  978  979  983  986  990 1001 1005 1013 1023 1026 1027 1031 1033\n",
      " 1036 1040 1041 1042 1046 1050 1052 1054 1055 1057 1063 1066 1067 1070\n",
      " 1073 1075 1079 1087 1089 1090 1093 1094 1096 1097 1101 1103 1105 1107\n",
      " 1112 1113 1114 1116 1117 1118 1128 1131 1133 1142 1146 1155 1159 1163\n",
      " 1164 1167 1168 1173 1174 1175 1178 1181 1182 1185 1191 1192 1195 1196\n",
      " 1204 1206 1208 1217 1218 1219 1221 1222 1223 1229 1234 1236 1240 1243\n",
      " 1244 1247 1250 1251 1259 1260 1268 1277 1295 1298 1299 1301 1307 1309\n",
      " 1311 1314 1318 1319 1335 1341 1344 1347 1348 1352 1355 1364 1370 1374\n",
      " 1377 1384 1394 1398 1403 1406 1407 1411 1418 1419 1422 1423 1441 1451\n",
      " 1454 1458 1463 1468]\n",
      "Fold 1\n",
      " Train index [   0    1    4 ... 1467 1468 1469] \n",
      " Test index [   2    3    5    6   10   12   25   27   39   42   45   47   52   54\n",
      "   55   60   66   72   80   85   88   92   96   97  100  102  105  106\n",
      "  109  110  117  120  124  126  129  135  136  137  138  139  140  147\n",
      "  156  158  165  170  171  178  182  183  194  199  204  209  211  213\n",
      "  215  224  227  235  242  248  249  256  260  266  267  273  280  282\n",
      "  286  287  290  291  292  294  296  298  299  302  305  307  308  311\n",
      "  312  314  318  319  321  323  325  327  328  331  333  334  336  348\n",
      "  349  352  355  359  362  370  376  377  388  390  409  410  413  424\n",
      "  434  435  438  442  446  447  458  461  465  467  471  477  480  490\n",
      "  503  513  519  523  527  529  533  536  541  542  544  545  548  552\n",
      "  553  554  558  572  575  576  579  581  585  589  590  596  597  598\n",
      "  599  603  605  610  613  614  618  620  622  624  629  630  634  636\n",
      "  638  643  649  650  654  660  664  666  668  669  672  673  674  678\n",
      "  680  693  695  701  705  707  710  711  714  715  718  720  722  724\n",
      "  730  737  745  746  754  755  756  757  762  764  767  771  772  774\n",
      "  778  780  787  798  799  806  808  812  817  819  826  829  834  839\n",
      "  844  845  846  847  852  855  859  873  899  900  904  905  906  908\n",
      "  909  916  924  925  931  933  937  938  939  941  949  950  952  953\n",
      "  962  974  984  987  988  994  997  998 1006 1009 1022 1024 1029 1030\n",
      " 1037 1047 1048 1049 1053 1058 1061 1065 1068 1074 1084 1085 1092 1100\n",
      " 1102 1110 1111 1119 1121 1138 1140 1141 1144 1145 1150 1161 1165 1172\n",
      " 1179 1187 1188 1190 1193 1198 1199 1203 1209 1210 1211 1213 1214 1216\n",
      " 1220 1228 1237 1242 1252 1258 1263 1270 1271 1273 1279 1280 1284 1292\n",
      " 1300 1303 1313 1321 1322 1323 1327 1328 1330 1331 1338 1343 1350 1358\n",
      " 1360 1361 1362 1372 1385 1387 1389 1391 1392 1393 1397 1409 1410 1414\n",
      " 1416 1420 1424 1426 1427 1430 1438 1439 1447 1448 1449 1450 1452 1453\n",
      " 1456 1460 1461 1465]\n",
      "Fold 2\n",
      " Train index [   1    2    3 ... 1465 1466 1468] \n",
      " Test index [   0    7    9   11   18   22   24   28   33   36   38   41   46   57\n",
      "   61   62   68   69   71   73   74   75   77   79   82   84   89   90\n",
      "   93   94  104  108  114  116  118  119  125  131  132  133  142  144\n",
      "  145  148  153  159  162  164  167  169  172  173  176  177  181  185\n",
      "  191  193  195  212  214  217  222  223  226  228  232  234  238  250\n",
      "  251  255  257  258  264  268  272  278  281  284  300  326  329  335\n",
      "  338  340  341  347  356  357  360  364  366  368  369  372  373  375\n",
      "  383  386  389  393  395  396  404  408  412  414  417  419  421  431\n",
      "  436  440  444  445  448  449  450  454  456  457  460  468  473  475\n",
      "  483  487  491  495  498  499  500  501  504  505  507  512  515  516\n",
      "  518  521  525  530  531  539  547  555  557  559  568  580  587  593\n",
      "  595  604  609  611  616  633  635  637  644  652  655  656  657  662\n",
      "  667  671  675  676  688  689  690  692  694  696  697  703  708  713\n",
      "  716  717  723  728  731  732  734  735  738  739  740  750  753  760\n",
      "  761  768  783  785  786  789  790  801  802  803  810  814  822  823\n",
      "  825  828  830  832  838  842  848  849  850  851  857  861  865  866\n",
      "  867  868  869  872  874  875  876  879  884  887  890  893  895  910\n",
      "  911  912  914  918  919  932  934  935  940  944  947  966  967  968\n",
      "  969  977  982  985  989  991  993  996  999 1000 1004 1007 1008 1010\n",
      " 1011 1015 1018 1032 1034 1035 1039 1043 1078 1080 1081 1083 1088 1091\n",
      " 1098 1099 1106 1108 1120 1124 1125 1132 1134 1137 1149 1156 1157 1166\n",
      " 1169 1170 1176 1177 1189 1197 1200 1202 1205 1227 1233 1235 1239 1246\n",
      " 1249 1255 1262 1265 1272 1274 1278 1281 1285 1286 1287 1288 1289 1290\n",
      " 1293 1305 1306 1308 1310 1320 1324 1325 1333 1334 1339 1340 1353 1354\n",
      " 1357 1365 1366 1368 1371 1373 1375 1376 1379 1380 1388 1400 1401 1404\n",
      " 1405 1412 1413 1415 1417 1421 1429 1433 1435 1436 1444 1445 1457 1462\n",
      " 1464 1467 1469]\n",
      "Fold 3\n",
      " Train index [   0    2    3 ... 1467 1468 1469] \n",
      " Test index [   1    4    8   13   14   16   17   19   20   21   26   34   35   37\n",
      "   40   50   53   64   87   91   95   98  103  112  121  122  127  130\n",
      "  134  143  146  149  150  151  152  154  157  160  161  166  180  186\n",
      "  187  189  190  197  200  201  202  205  206  207  216  219  225  229\n",
      "  230  241  245  246  252  253  262  263  269  276  279  283  288  293\n",
      "  295  301  304  313  315  317  320  330  337  343  345  378  379  384\n",
      "  385  387  391  392  397  399  400  401  402  403  406  407  418  437\n",
      "  441  443  452  455  459  463  466  469  470  472  474  476  484  488\n",
      "  489  492  496  502  508  509  510  511  517  520  524  537  540  546\n",
      "  550  556  562  563  564  565  569  574  577  586  592  600  606  608\n",
      "  612  623  625  627  632  639  640  641  642  645  646  647  648  653\n",
      "  658  659  663  681  683  684  685  686  687  698  699  702  709  719\n",
      "  725  726  729  742  747  748  749  751  758  763  766  769  773  775\n",
      "  776  779  784  791  794  795  797  800  804  805  815  821  827  831\n",
      "  833  835  837  840  853  854  856  860  863  870  871  877  878  880\n",
      "  883  891  896  897  902  913  920  927  928  929  951  954  955  956\n",
      "  957  959  960  961  971  972  975  980  981  992  995 1002 1003 1012\n",
      " 1014 1016 1017 1019 1020 1021 1025 1028 1038 1044 1045 1051 1056 1059\n",
      " 1060 1062 1064 1069 1071 1072 1076 1077 1082 1086 1095 1104 1109 1115\n",
      " 1122 1123 1126 1127 1129 1130 1135 1136 1139 1143 1147 1148 1151 1152\n",
      " 1153 1154 1158 1160 1162 1171 1180 1183 1184 1186 1194 1201 1207 1212\n",
      " 1215 1224 1225 1226 1230 1231 1232 1238 1241 1245 1248 1253 1254 1256\n",
      " 1257 1261 1264 1266 1267 1269 1275 1276 1282 1283 1291 1294 1296 1297\n",
      " 1302 1304 1312 1315 1316 1317 1326 1329 1332 1336 1337 1342 1345 1346\n",
      " 1349 1351 1356 1359 1363 1367 1369 1378 1381 1382 1383 1386 1390 1395\n",
      " 1396 1399 1402 1408 1425 1428 1431 1432 1434 1437 1440 1442 1443 1446\n",
      " 1455 1459 1466]\n"
     ]
    }
   ],
   "execution_count": 39
  },
  {
   "metadata": {
    "ExecuteTime": {
     "end_time": "2024-11-27T13:34:40.105781Z",
     "start_time": "2024-11-27T13:34:38.619647Z"
    }
   },
   "cell_type": "code",
   "source": [
    "from sklearn.metrics import accuracy_score, precision_score, recall_score, f1_score\n",
    "\n",
    "# Initialize lists to store the results\n",
    "results = {name: {'accuracy': [], 'precision': [], 'recall': [], 'f1': []} for name in models.keys()}\n",
    "\n",
    "# Perform KFold cross-validation\n",
    "for train_index, test_index in kfold.split(X):\n",
    "    X_train, X_test = X.iloc[train_index], X.iloc[test_index]\n",
    "    y_train, y_test = y.iloc[train_index], y.iloc[test_index]\n",
    "\n",
    "    for name, model in models.items():\n",
    "        model.fit(X_train, y_train)\n",
    "        y_pred = model.predict(X_test)\n",
    "\n",
    "        results[name]['accuracy'].append(accuracy_score(y_test, y_pred))\n",
    "        results[name]['precision'].append(precision_score(y_test, y_pred))\n",
    "        results[name]['recall'].append(recall_score(y_test, y_pred))\n",
    "        results[name]['f1'].append(f1_score(y_test, y_pred))\n",
    "\n",
    "# Calculate the average performance metrics for each model\n",
    "for name in models.keys():\n",
    "    print(f'{name} - Accuracy: {np.mean(results[name][\"accuracy\"]):.4f}, Precision: {np.mean(results[name][\"precision\"]):.4f}, Recall: {np.mean(results[name][\"recall\"]):.4f}, F1 Score: {np.mean(results[name][\"f1\"]):.4f}')"
   ],
   "id": "acbaa480d0b176f3",
   "outputs": [
    {
     "name": "stdout",
     "output_type": "stream",
     "text": [
      "Logistic Regression - Accuracy: 0.8578, Precision: 0.6386, Recall: 0.2687, F1 Score: 0.3775\n",
      "Random Forest - Accuracy: 0.8544, Precision: 0.7866, Recall: 0.1356, F1 Score: 0.2262\n",
      "Support Vector Machine - Accuracy: 0.8388, Precision: 0.0000, Recall: 0.0000, F1 Score: 0.0000\n"
     ]
    }
   ],
   "execution_count": 41
  },
  {
   "metadata": {},
   "cell_type": "markdown",
   "source": "from this point we can see that the Random Forest model is the best model for this dataset as it has the highest accuracy, precision, recall, and F1 score. So we will use the Random Forest model to predict the attrition of the employees.",
   "id": "7fb398425fc161a2"
  },
  {
   "metadata": {
    "ExecuteTime": {
     "end_time": "2024-11-27T13:47:23.109966Z",
     "start_time": "2024-11-27T13:47:23.098272Z"
    }
   },
   "cell_type": "code",
   "source": [
    "# Check the data types and structures\n",
    "print(f'y_test type: {type(y_test)}, shape: {y_test.shape}')\n",
    "print(f'y_pred type: {type(y_pred)}, shape: {y_pred.shape}')\n",
    "print(f'X_test type: {type(X_test)}, shape: {X_test.shape}')\n",
    "print(f'predict type: {type(predict)}, shape: {predict.shape}')\n",
    "\n",
    "# Display the first few rows to ensure the data looks correct\n",
    "print('y_test sample:')\n",
    "print(y_test.head())\n",
    "print('y_pred sample:')\n",
    "print(y_pred[:5])\n",
    "print('X_test sample:')\n",
    "print(X_test.head())\n",
    "print('predict sample:')\n",
    "print(predict[:5])"
   ],
   "id": "7396f79ba022dc37",
   "outputs": [
    {
     "name": "stdout",
     "output_type": "stream",
     "text": [
      "y_test type: <class 'pandas.core.series.Series'>, shape: (367,)\n",
      "y_pred type: <class 'numpy.ndarray'>, shape: (367,)\n",
      "X_test type: <class 'pandas.core.frame.DataFrame'>, shape: (367, 34)\n",
      "predict type: <class 'numpy.ndarray'>, shape: (294,)\n",
      "y_test sample:\n",
      "1     0\n",
      "4     0\n",
      "8     0\n",
      "13    0\n",
      "14    1\n",
      "Name: Attrition, dtype: int32\n",
      "y_pred sample:\n",
      "[0 0 0 0 0]\n",
      "X_test sample:\n",
      "         Age  BusinessTravel  DailyRate  Department  DistanceFromHome  \\\n",
      "1   1.322365               1  -1.297775           1         -0.147150   \n",
      "4  -1.086676               2  -0.524295           1         -0.887515   \n",
      "8   0.117845               1  -1.453958           1          1.703764   \n",
      "13 -0.320163               2   1.347427           1          1.210187   \n",
      "14 -0.977174               2  -1.734097           1          1.827158   \n",
      "\n",
      "    Education  EducationField  EmployeeCount  EmployeeNumber  \\\n",
      "1           1               1            0.0       -1.699621   \n",
      "4           1               3            0.0       -1.691313   \n",
      "8           0               1            0.0       -1.683005   \n",
      "13          2               3            0.0       -1.673035   \n",
      "14          0               1            0.0       -1.671374   \n",
      "\n",
      "    EnvironmentSatisfaction  ...  RelationshipSatisfaction  StandardHours  \\\n",
      "1                         2  ...                         1            0.0   \n",
      "4                         3  ...                         1            0.0   \n",
      "8                         1  ...                         0            0.0   \n",
      "13                        0  ...                         2            0.0   \n",
      "14                        2  ...                         0            0.0   \n",
      "\n",
      "    StockOptionLevel  TotalWorkingYears  TrainingTimesLastYear  \\\n",
      "1           0.241988          -0.164511               0.155707   \n",
      "4           0.241988          -0.678774               0.155707   \n",
      "8          -0.932014          -0.164511              -0.620189   \n",
      "13          0.241988          -1.064470              -0.620189   \n",
      "14         -0.932014          -0.678774               0.931603   \n",
      "\n",
      "    WorkLifeBalance  YearsAtCompany  YearsInCurrentRole  \\\n",
      "1                 2        0.488508            0.764998   \n",
      "4                 2       -0.817734           -0.615492   \n",
      "8                 2        0.325228            0.764998   \n",
      "13                2       -0.817734           -0.615492   \n",
      "14                2       -0.491174           -0.615492   \n",
      "\n",
      "    YearsSinceLastPromotion  YearsWithCurrManager  \n",
      "1                 -0.368715              0.806541  \n",
      "4                 -0.058285             -0.595227  \n",
      "8                 -0.368715              1.086895  \n",
      "13                -0.368715             -0.595227  \n",
      "14                -0.679146             -0.314873  \n",
      "\n",
      "[5 rows x 34 columns]\n",
      "predict sample:\n",
      "[0 0 0 0 0]\n"
     ]
    }
   ],
   "execution_count": 49
  },
  {
   "metadata": {
    "ExecuteTime": {
     "end_time": "2024-11-27T14:15:15.891826Z",
     "start_time": "2024-11-27T14:15:15.335383Z"
    }
   },
   "cell_type": "code",
   "source": [
    "from sklearn.ensemble import VotingClassifier\n",
    "\n",
    "# Define the models\n",
    "logreg = LogisticRegression()\n",
    "rf = RandomForestClassifier()\n",
    "svc = SVC(probability=True)\n",
    "\n",
    "# Create an ensemble model. This combines the predictions of the all models\n",
    "ensemble_model = VotingClassifier(estimators=[\n",
    "    ('logreg', logreg),\n",
    "    ('rf', rf),\n",
    "    ('svc', svc)\n",
    "], voting='soft')\n",
    "\n",
    "# Train the ensemble model\n",
    "ensemble_model.fit(X_train, y_train) # To check the scoring for each model\n",
    "print(f'Ensemble Model Accuracy: {ensemble_model.score(X_test, y_test)}')"
   ],
   "id": "35f9a6687b325f3e",
   "outputs": [
    {
     "name": "stdout",
     "output_type": "stream",
     "text": [
      "Ensemble Model Accuracy: 0.8446866485013624\n"
     ]
    }
   ],
   "execution_count": 54
  },
  {
   "metadata": {},
   "cell_type": "markdown",
   "source": "# Hyperparameter Tuning",
   "id": "8331a8283374e33e"
  },
  {
   "metadata": {
    "ExecuteTime": {
     "end_time": "2024-11-27T14:10:45.177418Z",
     "start_time": "2024-11-27T14:09:59.007641Z"
    }
   },
   "cell_type": "code",
   "source": [
    "from sklearn.model_selection import RandomizedSearchCV\n",
    "# Define the parameter gird for Random forest\n",
    "pararandom = {\n",
    "    'n_estimators': [int(x) for x in np.linspace(start = 200, stop = 2000, num = 10)],\n",
    "    'max_features': ['auto', 'sqrt'],\n",
    "    'max_depth': [int(x) for x in np.linspace(10, 110, num = 11)] + [None],\n",
    "    'min_samples_split': [2, 5, 10],\n",
    "    'min_samples_leaf': [1, 2, 4],\n",
    "    'bootstrap': [True, False]\n",
    "}\n",
    "# perform Randomized search\n",
    "random = RandomizedSearchCV(estimator = models['Random Forest'], param_distributions = pararandom, n_iter = 100, cv = 3, verbose=2, random_state=42, n_jobs = -1)\n",
    "random.fit(X_train, y_train)\n",
    "\n",
    "# Display the best parameters\n",
    "random.best_params_ # this will display the best parameters but it will take time to run\n"
   ],
   "id": "905e201b14c3a1af",
   "outputs": [
    {
     "name": "stdout",
     "output_type": "stream",
     "text": [
      "Fitting 3 folds for each of 100 candidates, totalling 300 fits\n"
     ]
    },
    {
     "data": {
      "text/plain": [
       "{'n_estimators': 1000,\n",
       " 'min_samples_split': 2,\n",
       " 'min_samples_leaf': 1,\n",
       " 'max_features': 'sqrt',\n",
       " 'max_depth': 20,\n",
       " 'bootstrap': True}"
      ]
     },
     "execution_count": 50,
     "metadata": {},
     "output_type": "execute_result"
    }
   ],
   "execution_count": 50
  },
  {
   "metadata": {
    "ExecuteTime": {
     "end_time": "2024-11-27T14:14:00.176679Z",
     "start_time": "2024-11-27T14:13:57.279357Z"
    }
   },
   "cell_type": "code",
   "source": [
    "# Train the model with the best parameters\n",
    "best_model = RandomForestClassifier(**random.best_params_)\n",
    "best_model.fit(X_train, y_train)\n",
    "y_predi = best_model.predict(X_test)\n",
    "print(f'Best Model Accuracy: {accuracy_score(y_test, y_predi)}')"
   ],
   "id": "72fe268f14a54936",
   "outputs": [
    {
     "name": "stdout",
     "output_type": "stream",
     "text": [
      "Best Model Accuracy: 0.8446866485013624\n"
     ]
    }
   ],
   "execution_count": 52
  },
  {
   "metadata": {
    "ExecuteTime": {
     "end_time": "2024-11-27T14:24:03.334529Z",
     "start_time": "2024-11-27T14:24:03.327096Z"
    }
   },
   "cell_type": "code",
   "source": [
    "# Display the confusion matrix\n",
    "cnfmax = confusion_matrix(y_test, y_predi)"
   ],
   "id": "b965e543d55a0844",
   "outputs": [],
   "execution_count": 59
  },
  {
   "metadata": {
    "ExecuteTime": {
     "end_time": "2024-11-27T14:24:33.319519Z",
     "start_time": "2024-11-27T14:24:33.143976Z"
    }
   },
   "cell_type": "code",
   "source": [
    "from sklearn.metrics import roc_curve, roc_auc_score\n",
    "\n",
    "fig = plt.figure(figsize = (15,6))\n",
    "ax1 = fig.add_subplot(1,2,1)\n",
    "ax1 = sns.heatmap(pd.DataFrame(cnfmax), annot = True, cmap = 'Blues', fmt = 'd')\n",
    "bottom, top = ax1.get_ylim()\n",
    "ax1.set_ylim(bottom + 0.5, top - 0.5)\n",
    "plt.xlabel('Predicted')\n",
    "plt.ylabel('Expected')\n"
   ],
   "id": "e489ab29a223361e",
   "outputs": [
    {
     "data": {
      "text/plain": [
       "Text(160.22222222222223, 0.5, 'Expected')"
      ]
     },
     "execution_count": 62,
     "metadata": {},
     "output_type": "execute_result"
    },
    {
     "data": {
      "text/plain": [
       "<Figure size 1500x600 with 2 Axes>"
      ],
      "image/png": "[encoded data removed]"
     },
     "metadata": {},
     "output_type": "display_data"
    }
   ],
   "execution_count": 62
  },
  {
   "metadata": {
    "ExecuteTime": {
     "end_time": "2024-11-27T14:25:00.689128Z",
     "start_time": "2024-11-27T14:24:59.909895Z"
    }
   },
   "cell_type": "code",
   "source": [
    "# Display the ROC curve\n",
    "y_pred_prob = best_model.predict_proba(X_test)[:,1]\n",
    "fpr, tpr, thresholds = roc_curve(y_test, y_pred_prob)\n",
    "plt.plot(fpr, tpr)\n",
    "plt.xlabel('False Positive Rate')\n",
    "plt.ylabel('True Positive Rate')\n",
    "plt.title('ROC Curve')\n",
    "plt.show()\n"
   ],
   "id": "da85a9c93ae70f92",
   "outputs": [
    {
     "data": {
      "text/plain": [
       "<Figure size 640x480 with 1 Axes>"
      ],
      "image/png": "[encoded data removed]"
     },
     "metadata": {},
     "output_type": "display_data"
    }
   ],
   "execution_count": 63
  },
  {
   "metadata": {
    "ExecuteTime": {
     "end_time": "2024-11-27T14:25:44.804701Z",
     "start_time": "2024-11-27T14:25:44.792306Z"
    }
   },
   "cell_type": "code",
   "source": [
    "# Calculate the ROC AUC score\n",
    "roc_auc_score(y_test, y_pred_prob)"
   ],
   "id": "fd0a191e6d4df802",
   "outputs": [
    {
     "data": {
      "text/plain": [
       "0.8377939356435643"
      ]
     },
     "execution_count": 64,
     "metadata": {},
     "output_type": "execute_result"
    }
   ],
   "execution_count": 64
  },
  {
   "metadata": {
    "ExecuteTime": {
     "end_time": "2024-11-27T14:37:01.292126Z",
     "start_time": "2024-11-27T14:37:01.268884Z"
    }
   },
   "cell_type": "code",
   "source": [
    "# clean and imbalance data\n",
    "from imblearn.over_sampling import SMOTE\n",
    "\n",
    "# Initialize SMOTE\n",
    "smote = SMOTE()\n",
    "\n",
    "# Resample the data\n",
    "X_resampled, y_resampled = smote.fit_resample(X_train, y_train)\n",
    "print(f'Original data distribution: {y_train.value_counts()}')\n",
    "print(f'Resampled data distribution: {y_resampled.value_counts()}')\n"
   ],
   "id": "26c88ec919e59852",
   "outputs": [
    {
     "name": "stdout",
     "output_type": "stream",
     "text": [
      "Original data distribution: Attrition\n",
      "0    930\n",
      "1    173\n",
      "Name: count, dtype: int64\n",
      "Resampled data distribution: Attrition\n",
      "1    930\n",
      "0    930\n",
      "Name: count, dtype: int64\n"
     ]
    }
   ],
   "execution_count": 68
  },
  {
   "metadata": {},
   "cell_type": "markdown",
   "source": "not much difference in the data distribution after resampling meaning that the data is balanced and ready to be finalized.",
   "id": "f36becd5171aedc3"
  },
  {
   "metadata": {},
   "cell_type": "markdown",
   "source": "# Final Model",
   "id": "6caeed5b439273dc"
  },
  {
   "metadata": {
    "ExecuteTime": {
     "end_time": "2024-11-27T14:41:24.404387Z",
     "start_time": "2024-11-27T14:41:24.318122Z"
    }
   },
   "cell_type": "code",
   "source": [
    "# Final Model Selection\n",
    "best_model = random.best_estimator_\n",
    "\n",
    "# Evaluate the best model\n",
    "y_pred = best_model.predict(X_test)\n",
    "accuracy = accuracy_score(y_test, y_pred)\n",
    "precision = precision_score(y_test, y_pred)\n",
    "recall = recall_score(y_test, y_pred)\n",
    "f1 = f1_score(y_test, y_pred)\n",
    "print(f'Best Model - Accuracy: {accuracy}, Precision: {precision}, Recall: {recall}, F1 Score: {f1}')"
   ],
   "id": "b5668c85c7e7bc36",
   "outputs": [
    {
     "name": "stdout",
     "output_type": "stream",
     "text": [
      "Best Model - Accuracy: 0.8446866485013624, Precision: 0.7058823529411765, Recall: 0.1875, F1 Score: 0.2962962962962963\n"
     ]
    }
   ],
   "execution_count": 70
  },
  {
   "metadata": {},
   "cell_type": "markdown",
   "source": "we can see Accuracy and presion are good but recall and F1 score are not good so we need to improve the model",
   "id": "768c5e8ffe4f0108"
  },
  {
   "metadata": {
    "ExecuteTime": {
     "end_time": "2024-11-27T14:45:55.669790Z",
     "start_time": "2024-11-27T14:45:55.531445Z"
    }
   },
   "cell_type": "code",
   "source": [
    "# Final Model Evaluation\n",
    "print('Best Model Confusion Matrix:')\n",
    "print(confusion_matrix(y_test, y_pred))\n",
    "plt.figure(figsize=(8,5))\n",
    "sns.heatmap(confusion_matrix(y_test, y_pred), annot=True, cmap='Reds', fmt='d')\n",
    "plt.xlabel('Predicted')\n",
    "plt.ylabel('Expected')\n",
    "plt.title('Confusion Matrix')\n",
    "plt.show()\n",
    "print('Best Model Classification Report:')\n",
    "print(classification_report(y_test, y_pred))"
   ],
   "id": "8cb740b619538377",
   "outputs": [
    {
     "name": "stdout",
     "output_type": "stream",
     "text": [
      "Best Model Confusion Matrix:\n",
      "[[298   5]\n",
      " [ 52  12]]\n"
     ]
    },
    {
     "data": {
      "text/plain": [
       "<Figure size 800x500 with 2 Axes>"
      ],
      "image/png": "[encoded data removed]"
     },
     "metadata": {},
     "output_type": "display_data"
    },
    {
     "name": "stdout",
     "output_type": "stream",
     "text": [
      "Best Model Classification Report:\n",
      "              precision    recall  f1-score   support\n",
      "\n",
      "           0       0.85      0.98      0.91       303\n",
      "           1       0.71      0.19      0.30        64\n",
      "\n",
      "    accuracy                           0.84       367\n",
      "   macro avg       0.78      0.59      0.60       367\n",
      "weighted avg       0.83      0.84      0.81       367\n",
      "\n"
     ]
    }
   ],
   "execution_count": 77
  },
  {
   "metadata": {},
   "cell_type": "markdown",
   "source": [
    "considering the results we can see that the Random Forest model is the best model as mainly looking at that weighted avg of the F1 score which is the best for the Random Forest model.\n",
    "Reason: the weighted average \"weighted avg\" is the data that is balanced and the model is predicting the positive class as well as the negative class. The Random Forest model is the best model for this dataset as it has the highest accuracy, precision, recall, and F1 score. So we will use the Random Forest model to predict the attrition of the employees."
   ],
   "id": "e8d054873c4bea69"
  },
  {
   "metadata": {},
   "cell_type": "markdown",
   "source": "# Conclusion",
   "id": "50c8e8ccfa50d9e6"
  },
  {
   "metadata": {},
   "cell_type": "markdown",
   "source": "from the above results we can see that the Random Forest model is the best model for this dataset as it has the highest accuracy, precision, recall, and F1 score. So we will use the Random Forest model to predict the attrition of the employees.",
   "id": "3364f488a53d5f1d"
  },
  {
   "metadata": {},
   "cell_type": "markdown",
   "source": [
    "## summary\n",
    "The Random Forest model, after hyperparameter tuning and addressing class imbalance, provided the best performance for predicting employee attrition. While the model showed good accuracy and precision, further improvements could be made to enhance recall and F1 score. This model can be a valuable tool for HR departments to identify potential attrition risks and take proactive measures to retain employees."
   ],
   "id": "fa3952c2e6ab3434"
  },
  {
   "metadata": {},
   "cell_type": "markdown",
   "source": [
    "### Note\n",
    "this is a simple model and can be improved by adding more data and features to the model. The model can be further optimized by fine-tuning hyperparameters and exploring advanced techniques such as feature engineering and ensemble methods. Additionally, the model can be deployed in a production environment to provide real-time predictions and insights for HR decision-making."
   ],
   "id": "d5b8022f69b301f0"
  }
 ],
 "metadata": {
  "kernelspec": {
   "display_name": "Python 3",
   "language": "python",
   "name": "python3"
  },
  "language_info": {
   "codemirror_mode": {
    "name": "ipython",
    "version": 2
   },
   "file_extension": ".py",
   "mimetype": "text/x-python",
   "name": "python",
   "nbconvert_exporter": "python",
   "pygments_lexer": "ipython2",
   "version": "2.7.6"
  }
 },
 "nbformat": 4,
 "nbformat_minor": 5
}
